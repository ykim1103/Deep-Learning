{
 "cells": [
  {
   "cell_type": "code",
   "execution_count": 1,
   "metadata": {},
   "outputs": [],
   "source": [
    "import tensorflow as tf\n",
    "import numpy as np\n",
    "import pandas as pd\n",
    "import matplotlib.pylab as plt   # 그림그리기 위한 import\n",
    "import sys"
   ]
  },
  {
   "cell_type": "markdown",
   "metadata": {},
   "source": [
    "## 단순선형회귀\n",
    "참고: https://tykimos.github.io/2017/03/25/Fit_Talk/\n",
    "참고: https://docs.google.com/presentation/d/1WF5yphSXyzYLG8wmVvOpRmgAlw4vewbK51ZwLAOFZXk/edit#slide=id.g1d2206496a_0_246"
   ]
  },
  {
   "cell_type": "code",
   "execution_count": 8,
   "metadata": {},
   "outputs": [
    {
     "name": "stdout",
     "output_type": "stream",
     "text": [
      "74.666664\n",
      "70.98\n",
      "67.386665\n",
      "63.88667\n",
      "60.479992\n",
      "57.166668\n",
      "53.946674\n",
      "50.819996\n",
      "47.78667\n",
      "44.84666\n",
      "42.0\n",
      "39.246666\n",
      "36.586662\n",
      "34.020004\n",
      "31.546667\n",
      "29.166666\n",
      "26.88\n",
      "24.686666\n",
      "22.58667\n",
      "20.58\n",
      "18.666666\n",
      "16.846666\n",
      "15.12\n",
      "13.486667\n",
      "11.946668\n",
      "10.5\n",
      "9.146666\n",
      "7.886667\n",
      "6.72\n",
      "5.646666\n",
      "4.6666665\n",
      "3.78\n",
      "2.986667\n",
      "2.2866664\n",
      "1.68\n",
      "1.1666666\n",
      "0.7466666\n",
      "0.42000008\n",
      "0.18666662\n",
      "0.04666671\n",
      "0.0\n",
      "0.04666671\n",
      "0.18666674\n",
      "0.41999987\n",
      "0.7466665\n",
      "1.1666666\n",
      "1.6800003\n",
      "2.2866673\n",
      "2.986666\n",
      "3.7799995\n",
      "4.6666665\n",
      "5.646666\n",
      "6.720001\n",
      "7.8866653\n",
      "9.146668\n",
      "10.5\n",
      "11.946666\n",
      "13.486669\n",
      "15.119998\n",
      "16.84667\n",
      "18.666666\n",
      "20.579996\n",
      "22.58667\n",
      "24.686666\n",
      "26.880005\n",
      "29.166666\n",
      "31.546661\n",
      "34.020004\n",
      "36.586662\n",
      "39.24667\n",
      "42.0\n",
      "44.84666\n",
      "47.786663\n",
      "50.820007\n",
      "53.946674\n",
      "57.166668\n",
      "60.479992\n",
      "63.886658\n",
      "67.386665\n",
      "70.98\n"
     ]
    },
    {
     "data": {
      "image/png": "[encoded data removed]",
      "text/plain": [
       "<Figure size 432x288 with 1 Axes>"
      ]
     },
     "metadata": {
      "needs_background": "light"
     },
     "output_type": "display_data"
    }
   ],
   "source": [
    "# 데이터준비\n",
    "\n",
    "# train이면 입력값\n",
    "x_train = [1,2,3]\n",
    "y_train = [1,2,3]\n",
    "\n",
    "\n",
    "# 가설준비 -> Wx+b\n",
    "W = tf.placeholder(tf.float32)\n",
    "hypot= W*x_train\n",
    "\n",
    "\n",
    "\n",
    "# 비용함수(손실함수)   내가 얼마나 틀렸는지 알아야 보완할 수 있다. \n",
    "cost = tf.reduce_mean(tf.square(hypot-y_train))               # square는 제곱을 해주는 함수\n",
    "                                                              # (hypot-y) -> 예측값-정답. \n",
    "                                                              # reduce_mean \n",
    "    \n",
    "#---------------텐서플로우의 그래프작성완료----------------------------------\n",
    "\n",
    "\n",
    "\n",
    "\n",
    "sess=tf.Session()\n",
    "cost_val=[]\n",
    "\n",
    "for i in range(-30,50):\n",
    "    cost_result = sess.run(cost,feed_dict={W:i*0.1})                 # cost실행   W를 0.1 씩 조금씨 변경시켜서 확인\n",
    "    print(cost_result)\n",
    "    \n",
    "    cost_val.append(cost_result)\n",
    "\n",
    "plt.plot(cost_val)    \n",
    "sess.close()    "
   ]
  },
  {
   "cell_type": "markdown",
   "metadata": {},
   "source": [
    "### 경사하강 알고리즘을 이용한 가중치학습\n",
    "https://docs.google.com/presentation/d/12raZrY3d244q6jGuC7EykeSPzjP1-FqofMiNlx5Q52o/edit#slide=id.g1d11dcbc39_0_0"
   ]
  },
  {
   "cell_type": "code",
   "execution_count": 13,
   "metadata": {},
   "outputs": [
    {
     "name": "stdout",
     "output_type": "stream",
     "text": [
      "0 0.059027273 [0.9830663]\n",
      "1 0.073741734 [0.9909687]\n",
      "2 0.082427315 [0.9951833]\n",
      "3 0.08729792 [0.9974311]\n",
      "4 0.0899634 [0.9986299]\n",
      "5 0.09140423 [0.9992693]\n",
      "6 0.092178226 [0.9996103]\n",
      "7 0.092592515 [0.99979216]\n",
      "8 0.09281395 [0.99988914]\n",
      "9 0.092932135 [0.9999409]\n",
      "10 0.09299523 [0.99996847]\n",
      "11 0.09302888 [0.9999832]\n",
      "12 0.09304684 [0.99999106]\n",
      "13 0.09305648 [0.99999523]\n",
      "14 0.093061544 [0.99999744]\n",
      "15 0.09306425 [0.9999986]\n",
      "16 0.09306571 [0.9999993]\n",
      "17 0.09306649 [0.99999964]\n",
      "18 0.09306695 [0.9999998]\n",
      "19 0.09306716 [0.9999999]\n",
      "20 0.0930672 [0.99999994]\n"
     ]
    }
   ],
   "source": [
    "# 데이터준비\n",
    "\n",
    "# train이면 입력값\n",
    "x_train = [1,2,3]\n",
    "y_train = [1,2,3]\n",
    "\n",
    "\n",
    "# 가설준비 -> Wx+b\n",
    "W = tf.Variable(tf.random_normal([1]),dtype=tf.float32)\n",
    "b = tf.Variable(tf.random_normal([1]),dtype=tf.float32)\n",
    "\n",
    "hypot=W*x_train+b\n",
    "\n",
    "\n",
    "# 비용함수(손실함수)   내가 얼마나 틀렸는지 알아야 보완할 수 있다. \n",
    "cost = tf.reduce_mean(tf.square(hypot-y_train))               # square는 제곱을 해주는 함수\n",
    "                                                              # (hypot-y) -> 예측값-정답. \n",
    "                                                              # reduce_mean \n",
    "    \n",
    "    \n",
    "    \n",
    "\n",
    "# 최저 비용학습을 위한 경사 하강 알고리즘(Gradient Descent)    \n",
    "\n",
    "alpha = 0.1\n",
    "gradient = tf.reduce_mean((W*x_train -y_train)*x_train)\n",
    "descent = W-alpha*gradient\n",
    "update = W.assign(descent)     # W = descent\n",
    "    \n",
    "    \n",
    "    \n",
    "    \n",
    "    \n",
    "#---------------텐서플로우의 그래프작성완료----------------------------------\n",
    "\n",
    "\n",
    "\n",
    "\n",
    "sess=tf.Session()\n",
    "sess.run(tf.global_variables_initializer())\n",
    "\n",
    "\n",
    "\n",
    "for step in range(21):\n",
    "    _,c,w = sess.run([update,cost,W])\n",
    "    print(step,c,w)\n",
    "    \n",
    "    \n",
    "\n",
    "   \n",
    "sess.close()    "
   ]
  },
  {
   "cell_type": "code",
   "execution_count": 17,
   "metadata": {},
   "outputs": [
    {
     "name": "stdout",
     "output_type": "stream",
     "text": [
      "0 61.997562 [-0.29942626]\n",
      "1 28.694382 [0.11765191]\n",
      "2 13.280673 [0.4013908]\n",
      "3 6.146745 [0.59441686]\n",
      "4 2.8449497 [0.7257295]\n",
      "5 1.316779 [0.8150576]\n",
      "6 0.60949594 [0.8758229]\n",
      "7 0.28214338 [0.9171565]\n",
      "8 0.13063456 [0.9452705]\n",
      "9 0.060511377 [0.96439093]\n",
      "10 0.028055815 [0.977393]\n",
      "11 0.013034043 [0.9862325]\n",
      "12 0.0060812104 [0.9922403]\n",
      "13 0.0028628751 [0.9963217]\n",
      "14 0.0013729645 [0.99909246]\n",
      "15 0.0006830423 [1.0009717]\n",
      "16 0.00036337576 [1.0022444]\n",
      "17 0.0002150819 [1.0031043]\n",
      "18 0.00014610896 [1.0036837]\n",
      "19 0.000113844966 [1.0040721]\n",
      "20 9.857714e-05 [1.0043305]\n"
     ]
    }
   ],
   "source": [
    "# 데이터준비\n",
    "\n",
    "# train이면 입력값\n",
    "#x_train = tf.placeholder(tf.float32,shape=[5])    # 어떤 데이터가 들어올지 모르면 placeholder 이용\n",
    "#y_train = tf.placeholder(tf.float32,shape=[5])\n",
    "\n",
    "\n",
    "x_train = tf.placeholder(tf.float32,shape=[None])    # 어떤 데이터가 들어올지 모르면 placeholder 이용\n",
    "y_train = tf.placeholder(tf.float32,shape=[None])\n",
    "\n",
    "\n",
    "\n",
    "# 가설준비 -> Wx+b\n",
    "W = tf.Variable(tf.random_normal([1]),dtype=tf.float32)\n",
    "b = tf.Variable(tf.random_normal([1]),dtype=tf.float32)\n",
    "\n",
    "hypot=W*x_train+b\n",
    "\n",
    "\n",
    "# 비용함수(손실함수)   내가 얼마나 틀렸는지 알아야 보완할 수 있다. \n",
    "cost = tf.reduce_mean(tf.square(hypot-y_train))               # square는 제곱을 해주는 함수\n",
    "                                                              # hypot-y 제곱 합의 평균\n",
    "    \n",
    "    \n",
    "    \n",
    "\n",
    "# 최저 비용학습을 위한 경사 하강 알고리즘(Gradient Descent)    \n",
    "\n",
    "train=tf.train.GradientDescentOptimizer(learning_rate=0.01).minimize(cost)\n",
    "    \n",
    "    \n",
    "    \n",
    "    \n",
    "#---------------텐서플로우의 그래프작성완료----------------------------------\n",
    "\n",
    "\n",
    "\n",
    "sess=tf.Session()\n",
    "sess.run(tf.global_variables_initializer())\n",
    "\n",
    "\n",
    "\n",
    "for step in range(21):\n",
    "    _,c,w = sess.run([train,cost,W],feed_dict={x_train:[1,2,3,4,5,6],\n",
    "                                               y_train:[1,2,3,4,5,6]})\n",
    "    \n",
    "    \n",
    "    print(step,c,w)\n",
    "    \n",
    "   \n",
    "sess.close()    "
   ]
  },
  {
   "cell_type": "code",
   "execution_count": 19,
   "metadata": {},
   "outputs": [
    {
     "name": "stdout",
     "output_type": "stream",
     "text": [
      "0 32.960926 [0.45458132] [-1.6276654]\n",
      "100 0.53306067 [1.472406] [-0.6055362]\n",
      "200 0.27077743 [1.3366926] [-0.11556698]\n",
      "300 0.13754605 [1.239967] [0.23364307]\n",
      "400 0.06986888 [1.1710289] [0.48253167]\n",
      "500 0.03549116 [1.1218954] [0.6599187]\n",
      "600 0.018028336 [1.0868771] [0.7863459]\n",
      "700 0.009157812 [1.061919] [0.87645304]\n",
      "800 0.0046518734 [1.0441308] [0.94067395]\n",
      "900 0.0023629894 [1.0314529] [0.9864455]\n",
      "1000 0.0012003232 [1.022417] [1.0190676]\n",
      "1100 0.00060972094 [1.0159768] [1.0423183]\n",
      "1200 0.00030971874 [1.0113871] [1.0588892]\n",
      "1300 0.00015732707 [1.0081158] [1.0706995]\n",
      "1400 7.9918354e-05 [1.0057842] [1.079117]\n",
      "1500 4.0597177e-05 [1.0041226] [1.085116]\n",
      "1600 2.062326e-05 [1.0029383] [1.0893916]\n",
      "1700 1.0475496e-05 [1.0020941] [1.0924394]\n",
      "1800 5.32108e-06 [1.0014925] [1.0946113]\n",
      "1900 2.7032772e-06 [1.001064] [1.0961591]\n"
     ]
    }
   ],
   "source": [
    "# 데이터준비\n",
    "\n",
    "# train이면 입력값\n",
    "#x_train = tf.placeholder(tf.float32,shape=[5])    # 어떤 데이터가 들어올지 모르면 placeholder 이용\n",
    "#y_train = tf.placeholder(tf.float32,shape=[5])\n",
    "\n",
    "\n",
    "x_train = tf.placeholder(tf.float32,shape=[None])    # 어떤 데이터가 들어올지 모르면 placeholder 이용\n",
    "y_train = tf.placeholder(tf.float32,shape=[None])\n",
    "\n",
    "\n",
    "\n",
    "# 가설준비 -> Wx+b\n",
    "W = tf.Variable(tf.random_normal([1]),dtype=tf.float32)\n",
    "b = tf.Variable(tf.random_normal([1]),dtype=tf.float32)\n",
    "\n",
    "hypot=W*x_train+b\n",
    "\n",
    "\n",
    "# 비용함수(손실함수)   내가 얼마나 틀렸는지 알아야 보완할 수 있다. \n",
    "cost = tf.reduce_mean(tf.square(hypot-y_train))               # square는 제곱을 해주는 함수\n",
    "                                                              # hypot-y 제곱 합의 평균\n",
    "    \n",
    "    \n",
    "    \n",
    "\n",
    "# 최저 비용학습을 위한 경사 하강 알고리즘(Gradient Descent)    \n",
    "\n",
    "train=tf.train.GradientDescentOptimizer(learning_rate=0.01).minimize(cost)\n",
    "    \n",
    "    \n",
    "    \n",
    "    \n",
    "#---------------텐서플로우의 그래프작성완료----------------------------------\n",
    "\n",
    "\n",
    "\n",
    "sess=tf.Session()\n",
    "sess.run(tf.global_variables_initializer())\n",
    "\n",
    "\n",
    "\n",
    "for step in range(2000):\n",
    "    _,c,w,b1 = sess.run([train,cost,W,b],feed_dict={x_train:[1,2,3,4,5],\n",
    "                                               y_train:[2.1,3.1,4.1,5.1,6.1]})\n",
    "    \n",
    "    if step % 100 == 0:\n",
    "        print(step,c,w,b1)"
   ]
  },
  {
   "cell_type": "code",
   "execution_count": 22,
   "metadata": {},
   "outputs": [
    {
     "name": "stdout",
     "output_type": "stream",
     "text": [
      "[28.117796]\n",
      "[3.599155 4.800068]\n"
     ]
    }
   ],
   "source": [
    "# Testing\n",
    "print(sess.run(hypot,feed_dict={x_train:[27]}))\n",
    "print(sess.run(hypot,feed_dict={x_train:[2.5,3.7]}))\n",
    "sess.close()"
   ]
  },
  {
   "cell_type": "code",
   "execution_count": 23,
   "metadata": {},
   "outputs": [],
   "source": [
    "# 아래의 데이터를 가지고 하루 8시간을 일했을 때 매출액이 얼마인지 예측하시오.\n",
    "\n",
    "x_data=[1,2,3,4,5,6,7]y_data=[25000,55000,75000,110000,128000,155000,180000]"
   ]
  },
  {
   "cell_type": "code",
   "execution_count": 25,
   "metadata": {},
   "outputs": [
    {
     "name": "stdout",
     "output_type": "stream",
     "text": [
      "0 4606047700.0 [10346.294]\n",
      "1 1577480300.0 [16410.83]\n",
      "2 545105860.0 [19952.734]\n",
      "3 193182480.0 [22021.81]\n",
      "8 11932110.0 [24737.824]\n",
      "9 11361149.0 [24822.389]\n",
      "10 11154214.0 [24872.885]\n",
      "11 11071459.0 [24903.484]\n",
      "512 8683344.0 [25541.21]\n",
      "513 8682956.0 [25541.602]\n",
      "514 8682572.0 [25541.99]\n",
      "515 8682191.0 [25542.379]\n",
      "520 8680313.0 [25544.295]\n",
      "521 8679951.0 [25544.674]\n",
      "522 8679587.0 [25545.05]\n",
      "523 8679223.0 [25545.428]\n",
      "1024 8633635.0 [25628.713]\n",
      "1025 8633632.0 [25628.768]\n",
      "1026 8633615.0 [25628.822]\n",
      "1027 8633613.0 [25628.877]\n",
      "1032 8633579.0 [25629.143]\n",
      "1033 8633571.0 [25629.195]\n",
      "1034 8633558.0 [25629.248]\n",
      "1035 8633557.0 [25629.3]\n",
      "1536 8632668.0 [25640.889]\n",
      "1537 8632673.0 [25640.896]\n",
      "1538 8632671.0 [25640.904]\n",
      "1539 8632669.0 [25640.912]\n",
      "1544 8632670.0 [25640.95]\n",
      "1545 8632674.0 [25640.957]\n",
      "1546 8632672.0 [25640.963]\n",
      "1547 8632677.0 [25640.97]\n",
      "2048 8632652.0 [25642.584]\n",
      "2049 8632653.0 [25642.586]\n",
      "2050 8632650.0 [25642.586]\n",
      "2051 8632652.0 [25642.588]\n",
      "2056 8632655.0 [25642.592]\n",
      "2057 8632654.0 [25642.594]\n",
      "2058 8632654.0 [25642.596]\n",
      "2059 8632659.0 [25642.596]\n",
      "2560 8632658.0 [25642.814]\n",
      "2561 8632653.0 [25642.814]\n",
      "2562 8632654.0 [25642.816]\n",
      "2563 8632653.0 [25642.816]\n",
      "2568 8632655.0 [25642.816]\n",
      "2569 8632655.0 [25642.816]\n",
      "2570 8632658.0 [25642.816]\n",
      "2571 8632657.0 [25642.816]\n",
      "3072 8632654.0 [25642.846]\n",
      "3073 8632654.0 [25642.846]\n",
      "3074 8632654.0 [25642.846]\n",
      "3075 8632657.0 [25642.846]\n",
      "3080 8632657.0 [25642.846]\n",
      "3081 8632657.0 [25642.846]\n",
      "3082 8632657.0 [25642.846]\n",
      "3083 8632657.0 [25642.846]\n",
      "3584 8632657.0 [25642.848]\n",
      "3585 8632657.0 [25642.848]\n",
      "3586 8632657.0 [25642.848]\n",
      "3587 8632657.0 [25642.848]\n",
      "3592 8632657.0 [25642.848]\n",
      "3593 8632657.0 [25642.848]\n",
      "3594 8632657.0 [25642.848]\n",
      "3595 8632657.0 [25642.848]\n",
      "4096 8632657.0 [25642.848]\n",
      "4097 8632657.0 [25642.848]\n",
      "4098 8632657.0 [25642.848]\n",
      "4099 8632657.0 [25642.848]\n",
      "4104 8632657.0 [25642.848]\n",
      "4105 8632657.0 [25642.848]\n",
      "4106 8632657.0 [25642.848]\n",
      "4107 8632657.0 [25642.848]\n",
      "4608 8632657.0 [25642.848]\n",
      "4609 8632657.0 [25642.848]\n",
      "4610 8632657.0 [25642.848]\n",
      "4611 8632657.0 [25642.848]\n",
      "4616 8632657.0 [25642.848]\n",
      "4617 8632657.0 [25642.848]\n",
      "4618 8632657.0 [25642.848]\n",
      "4619 8632657.0 [25642.848]\n",
      "[206571.39]\n"
     ]
    }
   ],
   "source": [
    "\n",
    "#W는 Weight(가중치). -100에서 100사이의 랜덤값  b는 bias y절편\n",
    "W = tf.Variable(tf.random_uniform([1], -100, 100))\n",
    "b = tf.Variable(tf.random_uniform([1], -100, 100))\n",
    "\n",
    "#placeholder라는 하나의 틀\n",
    "X = tf.placeholder(tf.float32)\n",
    "Y = tf.placeholder(tf.float32)\n",
    "\n",
    "#가설식\n",
    "H = W*X + b\n",
    "\n",
    "#비용함수 코스트는 (이상치-실제값)의 제곱의 평균\n",
    "cost = tf.reduce_mean(tf.square(H-Y))\n",
    "\n",
    "#경사 하강 알고리즘에서 한번에 얼만큼 점프할건지. step의 크기.\n",
    "a = tf.Variable(0.01)\n",
    "optimizer = tf.train.GradientDescentOptimizer(a)\n",
    "\n",
    "#비용함수를 가장 적게 만드는 방법으로 학습.\n",
    "train = optimizer.minimize(cost)\n",
    "\n",
    "#변수 초기화\n",
    "init = tf.global_variables_initializer()\n",
    "\n",
    "#세션\n",
    "sess = tf.Session()\n",
    "sess.run(init)\n",
    "\n",
    "#여기가 실제로 학습이 일어나는 부분\n",
    "for i in range(5001):\n",
    "    sess.run(train, feed_dict = {X : x_data, Y : y_data})\n",
    "    if i & 500 ==0:\n",
    "        print(i, sess.run(cost, feed_dict = {X:x_data, Y:y_data}), sess.run(W))\n",
    "print (sess.run(H, feed_dict={X : [8]}))"
   ]
  },
  {
   "cell_type": "markdown",
   "metadata": {},
   "source": [
    "### 다중선형회귀"
   ]
  },
  {
   "cell_type": "code",
   "execution_count": 26,
   "metadata": {},
   "outputs": [],
   "source": [
    "x1_data = [73., 93., 89., 96., 73.]\n",
    "x2_data = [80., 88., 91., 98., 66.]\n",
    "x3_data = [75., 93., 90., 100., 70.]\n",
    "y_data = [152., 185., 180., 196., 142.]"
   ]
  },
  {
   "cell_type": "code",
   "execution_count": 30,
   "metadata": {},
   "outputs": [],
   "source": [
    "# 단순하게 처리하는 경우\n",
    "X1=tf.placeholder(tf.float32,shape=[None])\n",
    "X2=tf.placeholder(tf.float32,shape=[None])\n",
    "X3=tf.placeholder(tf.float32,shape=[None])\n",
    "\n",
    "\n",
    "\n",
    "y=tf.placeholder(tf.float32,shape=[None])"
   ]
  },
  {
   "cell_type": "code",
   "execution_count": 35,
   "metadata": {},
   "outputs": [
    {
     "name": "stdout",
     "output_type": "stream",
     "text": [
      "0 [147.21495 176.10397 173.48004 191.34561 132.70782] 50.510735\n",
      "100 [153.08412 183.29161 180.49332 198.98378 138.22266] 5.501709\n",
      "200 [153.01578 183.33911 180.47324 198.9626  138.29059] 5.310209\n",
      "300 [152.94934 183.38531 180.45372 198.94188 138.35683] 5.1283364\n",
      "400 [152.88475 183.43027 180.43477 198.92155 138.42137] 4.9555864\n",
      "500 [152.82199 183.47397 180.41641 198.90167 138.48428] 4.791561\n",
      "600 [152.76096 183.51648 180.39856 198.88217 138.54562] 4.6356726\n",
      "700 [152.70161 183.5578  180.38121 198.86308 138.6054 ] 4.487626\n",
      "800 [152.64397 183.598   180.36438 198.84438 138.66368] 4.3469095\n",
      "900 [152.58792 183.63708 180.34805 198.82602 138.72047] 4.2132006\n",
      "1000 [152.53345 183.67511 180.33221 198.80804 138.77585] 4.086107\n",
      "1100 [152.48048 183.71205 180.3168  198.7904  138.82983] 3.965271\n",
      "1200 [152.42903 183.74799 180.3019  198.77312 138.88246] 3.8503945\n",
      "1300 [152.37901 183.78291 180.28738 198.75616 138.93376] 3.7411606\n",
      "1400 [152.3304  183.8169  180.27333 198.73955 138.98378] 3.6372635\n",
      "1500 [152.28317 183.84993 180.25969 198.72325 139.03258] 3.5383961\n",
      "1600 [152.23727 183.88205 180.24644 198.70726 139.08012] 3.4443564\n",
      "1700 [152.19266 183.91327 180.23361 198.69157 139.1265 ] 3.3548553\n",
      "1800 [152.14932 183.9436  180.22115 198.67616 139.1717 ] 3.2696526\n",
      "1900 [152.10722 183.97314 180.20908 198.66107 139.21582] 3.1885202\n",
      "2000 [152.0663  184.0018  180.19734 198.64622 139.25882] 3.1112638\n"
     ]
    }
   ],
   "source": [
    "# 가설준비\n",
    "W1 = tf.Variable(tf.random_normal([1])) \n",
    "W2 = tf.Variable(tf.random_normal([1])) \n",
    "W3 = tf.Variable(tf.random_normal([1])) \n",
    "\n",
    "b = tf.Variable(tf.random_normal([1])) \n",
    "\n",
    "hypot = W1*X1 + W2*X2 + W3*X3 + b \n",
    "\n",
    "\n",
    "\n",
    "# 비용함수\n",
    "cost = tf.reduce_mean(tf.square(hypot-y)) \n",
    "\n",
    "\n",
    "#최소비용계산\n",
    "train=tf.train.GradientDescentOptimizer(learning_rate=1e-5).minimize(cost)\n",
    "\n",
    "\n",
    "\n",
    "\n",
    "with tf.Session() as sess:\n",
    "    sess.run(tf.global_variables_initializer())\n",
    "    for step in range(2001):\n",
    "        _,h,c = sess.run([train,hypot,cost],feed_dict={X1:x1_data,\n",
    "                                                      X2:x2_data,\n",
    "                                                      X3:x3_data,\n",
    "                                                      y:y_data})\n",
    "        \n",
    "        if step % 100 == 0 :\n",
    "            print(step,h,c)"
   ]
  },
  {
   "cell_type": "code",
   "execution_count": 38,
   "metadata": {
    "scrolled": true
   },
   "outputs": [
    {
     "name": "stdout",
     "output_type": "stream",
     "text": [
      "0 [[ 6.287401]\n",
      " [25.569351]\n",
      " [15.903599]\n",
      " [18.267578]\n",
      " [23.042233]] 23863.537\n",
      "100 [[143.48021]\n",
      " [190.06615]\n",
      " [178.19266]\n",
      " [194.97072]\n",
      " [148.43388]] 28.794687\n",
      "200 [[143.68594]\n",
      " [189.92532]\n",
      " [178.25595]\n",
      " [195.01465]\n",
      " [148.25064]] 27.293097\n",
      "300 [[143.88618]\n",
      " [189.78822]\n",
      " [178.31755]\n",
      " [195.05736]\n",
      " [148.0723 ]] 25.870611\n",
      "400 [[144.0811 ]\n",
      " [189.65479]\n",
      " [178.37749]\n",
      " [195.09889]\n",
      " [147.89873]] 24.523106\n",
      "500 [[144.27083]\n",
      " [189.52492]\n",
      " [178.43587]\n",
      " [195.1393 ]\n",
      " [147.72986]] 23.246716\n",
      "600 [[144.4555 ]\n",
      " [189.3985 ]\n",
      " [178.49269]\n",
      " [195.17857]\n",
      " [147.5655 ]] 22.037556\n",
      "700 [[144.63525]\n",
      " [189.27545]\n",
      " [178.548  ]\n",
      " [195.21675]\n",
      " [147.40558]] 20.892206\n",
      "800 [[144.81023]\n",
      " [189.15569]\n",
      " [178.60184]\n",
      " [195.25388]\n",
      " [147.24995]] 19.80723\n",
      "900 [[144.98053]\n",
      " [189.03912]\n",
      " [178.65425]\n",
      " [195.28998]\n",
      " [147.09853]] 18.779522\n",
      "1000 [[145.14632]\n",
      " [188.92564]\n",
      " [178.70528]\n",
      " [195.32509]\n",
      " [146.95116]] 17.805885\n",
      "1100 [[145.30768]\n",
      " [188.81523]\n",
      " [178.75496]\n",
      " [195.3592 ]\n",
      " [146.80775]] 16.88368\n",
      "1200 [[145.46475]\n",
      " [188.70772]\n",
      " [178.80331]\n",
      " [195.3924 ]\n",
      " [146.66821]] 16.010017\n",
      "1300 [[145.61766]\n",
      " [188.60309]\n",
      " [178.85039]\n",
      " [195.42464]\n",
      " [146.53244]] 15.182434\n",
      "1400 [[145.7665 ]\n",
      " [188.50125]\n",
      " [178.89624]\n",
      " [195.45601]\n",
      " [146.40031]] 14.398465\n",
      "1500 [[145.91135]\n",
      " [188.40211]\n",
      " [178.94086]\n",
      " [195.48648]\n",
      " [146.27173]] 13.655848\n",
      "1600 [[146.05237]\n",
      " [188.30562]\n",
      " [178.98428]\n",
      " [195.5161 ]\n",
      " [146.14662]] 12.95235\n",
      "1700 [[146.18964]\n",
      " [188.21169]\n",
      " [179.02655]\n",
      " [195.54489]\n",
      " [146.02489]] 12.285939\n",
      "1800 [[146.32326]\n",
      " [188.1203 ]\n",
      " [179.06775]\n",
      " [195.5729 ]\n",
      " [145.90643]] 11.65468\n",
      "1900 [[146.45332]\n",
      " [188.0313 ]\n",
      " [179.1078 ]\n",
      " [195.6001 ]\n",
      " [145.79117]] 11.056654\n",
      "2000 [[146.57993]\n",
      " [187.94469]\n",
      " [179.14682]\n",
      " [195.62654]\n",
      " [145.679  ]] 10.490164\n"
     ]
    }
   ],
   "source": [
    "# matrix로 처리하는 경우\n",
    "x_data = [[73., 80., 75.], [93., 88., 93.],\n",
    "         [89., 91., 90.], [96., 98., 100.], [73., 66., 70.]]\n",
    "\n",
    "y_data = [[152.], [185.], [180.], [196.], [142.]]\n",
    "\n",
    "\n",
    "X=tf.placeholder(tf.float32,shape=[None,3])\n",
    "y=tf.placeholder(tf.float32,shape=[None,1])\n",
    "\n",
    "\n",
    "\n",
    "\n",
    "# 가설준비\n",
    "W = tf.Variable(tf.random_normal([3,1])) \n",
    "b = tf.Variable(tf.random_normal([1])) \n",
    "\n",
    "hypot = tf.matmul(X,W) + b \n",
    "\n",
    "\n",
    "\n",
    "# 비용함수\n",
    "cost = tf.reduce_mean(tf.square(hypot-y)) \n",
    "\n",
    "\n",
    "\n",
    "#최소비용계산\n",
    "train=tf.train.GradientDescentOptimizer(learning_rate=1e-5).minimize(cost)\n",
    "\n",
    "\n",
    "\n",
    "\n",
    "with tf.Session() as sess:\n",
    "    sess.run(tf.global_variables_initializer())\n",
    "    for step in range(2001):\n",
    "        _,h,c = sess.run([train,hypot,cost],feed_dict={X:x_data,\n",
    "                                                      y:y_data})\n",
    "        \n",
    "        if step % 100 == 0 :\n",
    "            print(step,h,c)\n"
   ]
  },
  {
   "cell_type": "markdown",
   "metadata": {},
   "source": [
    "## DASK\n",
    "      1. 가상 데이터 프레임\n",
    "      2. 병렬 처리용 작업 스케줄러"
   ]
  },
  {
   "cell_type": "code",
   "execution_count": 45,
   "metadata": {},
   "outputs": [
    {
     "name": "stdout",
     "output_type": "stream",
     "text": [
      "Writing data/sample1.csv\n"
     ]
    }
   ],
   "source": [
    "%%writefile 'data/sample1.csv'\n",
    "c1, c2, c3\n",
    "1, 1.11, one\n",
    "2, 2.22, two\n",
    "3, 3.33, three"
   ]
  },
  {
   "cell_type": "code",
   "execution_count": 47,
   "metadata": {},
   "outputs": [
    {
     "data": {
      "text/plain": [
       "2.22"
      ]
     },
     "execution_count": 47,
     "metadata": {},
     "output_type": "execute_result"
    }
   ],
   "source": [
    "df1=pd.read_csv('data/sample1.csv')\n",
    "df1\n",
    "df1[' c2'].mean()"
   ]
  },
  {
   "cell_type": "code",
   "execution_count": 54,
   "metadata": {},
   "outputs": [
    {
     "data": {
      "text/html": [
       "<div>\n",
       "<style scoped>\n",
       "    .dataframe tbody tr th:only-of-type {\n",
       "        vertical-align: middle;\n",
       "    }\n",
       "\n",
       "    .dataframe tbody tr th {\n",
       "        vertical-align: top;\n",
       "    }\n",
       "\n",
       "    .dataframe thead th {\n",
       "        text-align: right;\n",
       "    }\n",
       "</style>\n",
       "<table border=\"1\" class=\"dataframe\">\n",
       "  <thead>\n",
       "    <tr style=\"text-align: right;\">\n",
       "      <th></th>\n",
       "      <th>c1</th>\n",
       "      <th>c2</th>\n",
       "      <th>c3</th>\n",
       "    </tr>\n",
       "  </thead>\n",
       "  <tbody>\n",
       "    <tr>\n",
       "      <th>0</th>\n",
       "      <td>1</td>\n",
       "      <td>100</td>\n",
       "      <td>one</td>\n",
       "    </tr>\n",
       "    <tr>\n",
       "      <th>1</th>\n",
       "      <td>2</td>\n",
       "      <td>100</td>\n",
       "      <td>two</td>\n",
       "    </tr>\n",
       "    <tr>\n",
       "      <th>2</th>\n",
       "      <td>3</td>\n",
       "      <td>100</td>\n",
       "      <td>three</td>\n",
       "    </tr>\n",
       "  </tbody>\n",
       "</table>\n",
       "</div>"
      ],
      "text/plain": [
       "   c1   c2      c3\n",
       "0   1  100     one\n",
       "1   2  100     two\n",
       "2   3  100   three"
      ]
     },
     "execution_count": 54,
     "metadata": {},
     "output_type": "execute_result"
    }
   ],
   "source": [
    "df1[' c2']=100\n",
    "df1"
   ]
  },
  {
   "cell_type": "code",
   "execution_count": 48,
   "metadata": {},
   "outputs": [],
   "source": [
    "import dask.dataframe as dd"
   ]
  },
  {
   "cell_type": "code",
   "execution_count": 49,
   "metadata": {},
   "outputs": [
    {
     "data": {
      "text/html": [
       "<div><strong>Dask DataFrame Structure:</strong></div>\n",
       "<div>\n",
       "<style scoped>\n",
       "    .dataframe tbody tr th:only-of-type {\n",
       "        vertical-align: middle;\n",
       "    }\n",
       "\n",
       "    .dataframe tbody tr th {\n",
       "        vertical-align: top;\n",
       "    }\n",
       "\n",
       "    .dataframe thead th {\n",
       "        text-align: right;\n",
       "    }\n",
       "</style>\n",
       "<table border=\"1\" class=\"dataframe\">\n",
       "  <thead>\n",
       "    <tr style=\"text-align: right;\">\n",
       "      <th></th>\n",
       "      <th>c1</th>\n",
       "      <th>c2</th>\n",
       "      <th>c3</th>\n",
       "    </tr>\n",
       "    <tr>\n",
       "      <th>npartitions=1</th>\n",
       "      <th></th>\n",
       "      <th></th>\n",
       "      <th></th>\n",
       "    </tr>\n",
       "  </thead>\n",
       "  <tbody>\n",
       "    <tr>\n",
       "      <th></th>\n",
       "      <td>int64</td>\n",
       "      <td>float64</td>\n",
       "      <td>object</td>\n",
       "    </tr>\n",
       "    <tr>\n",
       "      <th></th>\n",
       "      <td>...</td>\n",
       "      <td>...</td>\n",
       "      <td>...</td>\n",
       "    </tr>\n",
       "  </tbody>\n",
       "</table>\n",
       "</div>\n",
       "<div>Dask Name: from-delayed, 3 tasks</div>"
      ],
      "text/plain": [
       "Dask DataFrame Structure:\n",
       "                  c1       c2      c3\n",
       "npartitions=1                        \n",
       "               int64  float64  object\n",
       "                 ...      ...     ...\n",
       "Dask Name: from-delayed, 3 tasks"
      ]
     },
     "execution_count": 49,
     "metadata": {},
     "output_type": "execute_result"
    }
   ],
   "source": [
    "df2 = dd.read_csv('data/sample1.csv')\n",
    "df2"
   ]
  },
  {
   "cell_type": "code",
   "execution_count": 50,
   "metadata": {},
   "outputs": [
    {
     "name": "stderr",
     "output_type": "stream",
     "text": [
      "C:\\Users\\acorn\\Anaconda3\\lib\\site-packages\\dask\\dataframe\\core.py:5943: UserWarning: Insufficient elements for `head`. 5 elements requested, only 3 elements available. Try passing larger `npartitions` to `head`.\n",
      "  warnings.warn(msg.format(n, len(r)))\n"
     ]
    },
    {
     "data": {
      "text/html": [
       "<div>\n",
       "<style scoped>\n",
       "    .dataframe tbody tr th:only-of-type {\n",
       "        vertical-align: middle;\n",
       "    }\n",
       "\n",
       "    .dataframe tbody tr th {\n",
       "        vertical-align: top;\n",
       "    }\n",
       "\n",
       "    .dataframe thead th {\n",
       "        text-align: right;\n",
       "    }\n",
       "</style>\n",
       "<table border=\"1\" class=\"dataframe\">\n",
       "  <thead>\n",
       "    <tr style=\"text-align: right;\">\n",
       "      <th></th>\n",
       "      <th>c1</th>\n",
       "      <th>c2</th>\n",
       "      <th>c3</th>\n",
       "    </tr>\n",
       "  </thead>\n",
       "  <tbody>\n",
       "    <tr>\n",
       "      <th>0</th>\n",
       "      <td>1</td>\n",
       "      <td>1.11</td>\n",
       "      <td>one</td>\n",
       "    </tr>\n",
       "    <tr>\n",
       "      <th>1</th>\n",
       "      <td>2</td>\n",
       "      <td>2.22</td>\n",
       "      <td>two</td>\n",
       "    </tr>\n",
       "    <tr>\n",
       "      <th>2</th>\n",
       "      <td>3</td>\n",
       "      <td>3.33</td>\n",
       "      <td>three</td>\n",
       "    </tr>\n",
       "  </tbody>\n",
       "</table>\n",
       "</div>"
      ],
      "text/plain": [
       "   c1    c2      c3\n",
       "0   1  1.11     one\n",
       "1   2  2.22     two\n",
       "2   3  3.33   three"
      ]
     },
     "execution_count": 50,
     "metadata": {},
     "output_type": "execute_result"
    }
   ],
   "source": [
    "df2.head()"
   ]
  },
  {
   "cell_type": "code",
   "execution_count": 51,
   "metadata": {},
   "outputs": [
    {
     "data": {
      "text/plain": [
       "dd.Scalar<series-..., dtype=float64>"
      ]
     },
     "execution_count": 51,
     "metadata": {},
     "output_type": "execute_result"
    }
   ],
   "source": [
    "df2[' c2'].mean()"
   ]
  },
  {
   "cell_type": "code",
   "execution_count": 52,
   "metadata": {},
   "outputs": [
    {
     "data": {
      "image/png": "[encoded data removed]",
      "text/plain": [
       "<IPython.core.display.Image object>"
      ]
     },
     "execution_count": 52,
     "metadata": {},
     "output_type": "execute_result"
    }
   ],
   "source": [
    "df2.visualize()"
   ]
  },
  {
   "cell_type": "code",
   "execution_count": 53,
   "metadata": {},
   "outputs": [
    {
     "data": {
      "text/plain": [
       "2.22"
      ]
     },
     "execution_count": 53,
     "metadata": {},
     "output_type": "execute_result"
    }
   ],
   "source": [
    "df2[' c2'].mean().compute()"
   ]
  },
  {
   "cell_type": "code",
   "execution_count": 57,
   "metadata": {},
   "outputs": [
    {
     "name": "stderr",
     "output_type": "stream",
     "text": [
      "C:\\Users\\acorn\\Anaconda3\\lib\\site-packages\\dask\\dataframe\\core.py:5943: UserWarning: Insufficient elements for `head`. 5 elements requested, only 3 elements available. Try passing larger `npartitions` to `head`.\n",
      "  warnings.warn(msg.format(n, len(r)))\n"
     ]
    },
    {
     "data": {
      "text/html": [
       "<div>\n",
       "<style scoped>\n",
       "    .dataframe tbody tr th:only-of-type {\n",
       "        vertical-align: middle;\n",
       "    }\n",
       "\n",
       "    .dataframe tbody tr th {\n",
       "        vertical-align: top;\n",
       "    }\n",
       "\n",
       "    .dataframe thead th {\n",
       "        text-align: right;\n",
       "    }\n",
       "</style>\n",
       "<table border=\"1\" class=\"dataframe\">\n",
       "  <thead>\n",
       "    <tr style=\"text-align: right;\">\n",
       "      <th></th>\n",
       "      <th>c1</th>\n",
       "      <th>c2</th>\n",
       "      <th>c3</th>\n",
       "    </tr>\n",
       "  </thead>\n",
       "  <tbody>\n",
       "    <tr>\n",
       "      <th>0</th>\n",
       "      <td>1</td>\n",
       "      <td>100</td>\n",
       "      <td>one</td>\n",
       "    </tr>\n",
       "    <tr>\n",
       "      <th>1</th>\n",
       "      <td>2</td>\n",
       "      <td>100</td>\n",
       "      <td>two</td>\n",
       "    </tr>\n",
       "    <tr>\n",
       "      <th>2</th>\n",
       "      <td>3</td>\n",
       "      <td>100</td>\n",
       "      <td>three</td>\n",
       "    </tr>\n",
       "  </tbody>\n",
       "</table>\n",
       "</div>"
      ],
      "text/plain": [
       "   c1   c2      c3\n",
       "0   1  100     one\n",
       "1   2  100     two\n",
       "2   3  100   three"
      ]
     },
     "execution_count": 57,
     "metadata": {},
     "output_type": "execute_result"
    }
   ],
   "source": [
    "df2[' c2']=100\n",
    "df2.head()\n"
   ]
  },
  {
   "cell_type": "code",
   "execution_count": 68,
   "metadata": {},
   "outputs": [
    {
     "name": "stdout",
     "output_type": "stream",
     "text": [
      "Writing data/data1.csv\n"
     ]
    }
   ],
   "source": [
    "%%writefile 'data/data1.csv'\n",
    "time,temp,humidity\n",
    "0,22,58\n",
    "1,21,57\n",
    "2,25,57\n",
    "3,26,55\n",
    "4,22,53\n",
    "5,23,59"
   ]
  },
  {
   "cell_type": "code",
   "execution_count": 69,
   "metadata": {},
   "outputs": [
    {
     "name": "stdout",
     "output_type": "stream",
     "text": [
      "Writing data/data2.csv\n"
     ]
    }
   ],
   "source": [
    "%%writefile 'data/data2.csv'\n",
    "time,temp,humidity\n",
    "0,22,58\n",
    "1,21,57\n",
    "2,25,57\n",
    "3,26,55\n",
    "4,22,53\n",
    "5,23,59"
   ]
  },
  {
   "cell_type": "code",
   "execution_count": 67,
   "metadata": {},
   "outputs": [
    {
     "name": "stdout",
     "output_type": "stream",
     "text": [
      "Writing data/data3.csv\n"
     ]
    }
   ],
   "source": [
    "%%writefile 'data/data3.csv'\n",
    "time,temp,humidity\n",
    "0,22,58\n",
    "1,21,57\n",
    "2,25,57\n",
    "3,26,55\n",
    "4,22,53\n",
    "5,23,59"
   ]
  },
  {
   "cell_type": "code",
   "execution_count": 73,
   "metadata": {},
   "outputs": [
    {
     "data": {
      "text/plain": [
       "time        18\n",
       "temp        18\n",
       "humidity    18\n",
       "dtype: int64"
      ]
     },
     "execution_count": 73,
     "metadata": {},
     "output_type": "execute_result"
    }
   ],
   "source": [
    "df3=dd.read_csv('data/data*.csv')\n",
    "df3\n",
    "df3.count().compute()"
   ]
  },
  {
   "cell_type": "code",
   "execution_count": 74,
   "metadata": {},
   "outputs": [
    {
     "data": {
      "text/plain": [
       "count    18.000000\n",
       "mean     23.166667\n",
       "std       1.823055\n",
       "min      21.000000\n",
       "25%      22.000000\n",
       "50%      22.500000\n",
       "75%      24.500000\n",
       "max      26.000000\n",
       "Name: temp, dtype: float64"
      ]
     },
     "execution_count": 74,
     "metadata": {},
     "output_type": "execute_result"
    }
   ],
   "source": [
    "df3.temp.describe().compute()"
   ]
  },
  {
   "cell_type": "code",
   "execution_count": 75,
   "metadata": {},
   "outputs": [],
   "source": [
    "# 대량 데이터의 병렬처리\n",
    "df4=dd.read_csv('data/crime.csv',dtype=str,error_bad_lines=False,warn_bad_lines=False)"
   ]
  },
  {
   "cell_type": "code",
   "execution_count": 78,
   "metadata": {},
   "outputs": [
    {
     "data": {
      "text/plain": [
       "ID                            724279\n",
       "Case Number                   724279\n",
       "Date                          724279\n",
       "Block                         724279\n",
       "IUCR                          724279\n",
       "Primary Type                  724279\n",
       "Description                   724279\n",
       "Location Description          721598\n",
       "Arrest                        724279\n",
       "Domestic                      724279\n",
       "Beat                          724279\n",
       "District                      724278\n",
       "Ward                          724267\n",
       "Community Area                724277\n",
       "FBI Code                      724279\n",
       "X Coordinate                  715994\n",
       "Y Coordinate                  715994\n",
       "Year                          724279\n",
       "Updated On                    724279\n",
       "Latitude                      715994\n",
       "Longitude                     715994\n",
       "Location                      715994\n",
       "Historical Wards 2003-2015    713711\n",
       "Zip Codes                     715994\n",
       "Community Areas               714015\n",
       "Census Tracts                 714255\n",
       "Wards                         714023\n",
       "Boundaries - ZIP Codes        714024\n",
       "Police Districts              714086\n",
       "Police Beats                  714088\n",
       "dtype: int64"
      ]
     },
     "execution_count": 78,
     "metadata": {},
     "output_type": "execute_result"
    }
   ],
   "source": [
    "df4\n",
    "df4.tail()\n",
    "\n",
    "df4.count().compute()"
   ]
  },
  {
   "cell_type": "code",
   "execution_count": 79,
   "metadata": {},
   "outputs": [],
   "source": [
    "from dask.diagnostics import ProgressBar\n",
    "pbar=ProgressBar()\n",
    "pbar.register()"
   ]
  },
  {
   "cell_type": "code",
   "execution_count": 80,
   "metadata": {},
   "outputs": [
    {
     "name": "stdout",
     "output_type": "stream",
     "text": [
      "[########################################] | 100% Completed |  3.4s\n",
      "Wall time: 3.42 s\n"
     ]
    },
    {
     "data": {
      "text/plain": [
       "ID                            724279\n",
       "Case Number                   724279\n",
       "Date                          724279\n",
       "Block                         724279\n",
       "IUCR                          724279\n",
       "Primary Type                  724279\n",
       "Description                   724279\n",
       "Location Description          721598\n",
       "Arrest                        724279\n",
       "Domestic                      724279\n",
       "Beat                          724279\n",
       "District                      724278\n",
       "Ward                          724267\n",
       "Community Area                724277\n",
       "FBI Code                      724279\n",
       "X Coordinate                  715994\n",
       "Y Coordinate                  715994\n",
       "Year                          724279\n",
       "Updated On                    724279\n",
       "Latitude                      715994\n",
       "Longitude                     715994\n",
       "Location                      715994\n",
       "Historical Wards 2003-2015    713711\n",
       "Zip Codes                     715994\n",
       "Community Areas               714015\n",
       "Census Tracts                 714255\n",
       "Wards                         714023\n",
       "Boundaries - ZIP Codes        714024\n",
       "Police Districts              714086\n",
       "Police Beats                  714088\n",
       "dtype: int64"
      ]
     },
     "execution_count": 80,
     "metadata": {},
     "output_type": "execute_result"
    }
   ],
   "source": [
    "%%time\n",
    "df4.count().compute()"
   ]
  },
  {
   "cell_type": "code",
   "execution_count": null,
   "metadata": {},
   "outputs": [],
   "source": [
    "'''\n",
    "Dask에서 제공하는 스케줄러\n",
    "    - dask.get : 단일 쓰레드\n",
    "    - dask.threaded.get : 멀티쓰레드 풀(pool)\n",
    "    - dask.multiprocessing.get : 멀티 프로세스 풀\n",
    "    - distributed.Client.get : 여러 대의 컴퓨터에서 분산 처리\n",
    "\n",
    "'''"
   ]
  },
  {
   "cell_type": "code",
   "execution_count": 81,
   "metadata": {},
   "outputs": [
    {
     "name": "stdout",
     "output_type": "stream",
     "text": [
      "[########################################] | 100% Completed |  6.4s\n",
      "Wall time: 6.42 s\n"
     ]
    },
    {
     "data": {
      "text/plain": [
       "ID                            724279\n",
       "Case Number                   724279\n",
       "Date                          724279\n",
       "Block                         724279\n",
       "IUCR                          724279\n",
       "Primary Type                  724279\n",
       "Description                   724279\n",
       "Location Description          721598\n",
       "Arrest                        724279\n",
       "Domestic                      724279\n",
       "Beat                          724279\n",
       "District                      724278\n",
       "Ward                          724267\n",
       "Community Area                724277\n",
       "FBI Code                      724279\n",
       "X Coordinate                  715994\n",
       "Y Coordinate                  715994\n",
       "Year                          724279\n",
       "Updated On                    724279\n",
       "Latitude                      715994\n",
       "Longitude                     715994\n",
       "Location                      715994\n",
       "Historical Wards 2003-2015    713711\n",
       "Zip Codes                     715994\n",
       "Community Areas               714015\n",
       "Census Tracts                 714255\n",
       "Wards                         714023\n",
       "Boundaries - ZIP Codes        714024\n",
       "Police Districts              714086\n",
       "Police Beats                  714088\n",
       "dtype: int64"
      ]
     },
     "execution_count": 81,
     "metadata": {},
     "output_type": "execute_result"
    }
   ],
   "source": [
    "%%time\n",
    "df4.count().compute(scheduler='processes',num_workers=4)\n"
   ]
  },
  {
   "cell_type": "markdown",
   "metadata": {},
   "source": [
    "### Batch\n",
    "      - Batch      : 전체 데이터\n",
    "      - Stochastic : 1개 데이터\n",
    "      - Mini-Batch : 적당한 크기로 쪼개는 것(?)\n",
    "      \n",
    "### Epoch\n",
    "      - 알고리즘의 수행횟수"
   ]
  },
  {
   "cell_type": "code",
   "execution_count": 82,
   "metadata": {},
   "outputs": [
    {
     "name": "stdout",
     "output_type": "stream",
     "text": [
      "WARNING:tensorflow:From <ipython-input-82-99a1bd86eb0a>:2: string_input_producer (from tensorflow.python.training.input) is deprecated and will be removed in a future version.\n",
      "Instructions for updating:\n",
      "Queue-based input pipelines have been replaced by `tf.data`. Use `tf.data.Dataset.from_tensor_slices(string_tensor).shuffle(tf.shape(input_tensor, out_type=tf.int64)[0]).repeat(num_epochs)`. If `shuffle=False`, omit the `.shuffle(...)`.\n",
      "WARNING:tensorflow:From C:\\Users\\acorn\\Anaconda3\\lib\\site-packages\\tensorflow_core\\python\\training\\input.py:277: input_producer (from tensorflow.python.training.input) is deprecated and will be removed in a future version.\n",
      "Instructions for updating:\n",
      "Queue-based input pipelines have been replaced by `tf.data`. Use `tf.data.Dataset.from_tensor_slices(input_tensor).shuffle(tf.shape(input_tensor, out_type=tf.int64)[0]).repeat(num_epochs)`. If `shuffle=False`, omit the `.shuffle(...)`.\n",
      "WARNING:tensorflow:From C:\\Users\\acorn\\Anaconda3\\lib\\site-packages\\tensorflow_core\\python\\training\\input.py:189: limit_epochs (from tensorflow.python.training.input) is deprecated and will be removed in a future version.\n",
      "Instructions for updating:\n",
      "Queue-based input pipelines have been replaced by `tf.data`. Use `tf.data.Dataset.from_tensors(tensor).repeat(num_epochs)`.\n",
      "WARNING:tensorflow:From C:\\Users\\acorn\\Anaconda3\\lib\\site-packages\\tensorflow_core\\python\\training\\input.py:198: QueueRunner.__init__ (from tensorflow.python.training.queue_runner_impl) is deprecated and will be removed in a future version.\n",
      "Instructions for updating:\n",
      "To construct input pipelines, use the `tf.data` module.\n",
      "WARNING:tensorflow:From C:\\Users\\acorn\\Anaconda3\\lib\\site-packages\\tensorflow_core\\python\\training\\input.py:198: add_queue_runner (from tensorflow.python.training.queue_runner_impl) is deprecated and will be removed in a future version.\n",
      "Instructions for updating:\n",
      "To construct input pipelines, use the `tf.data` module.\n",
      "WARNING:tensorflow:From <ipython-input-82-99a1bd86eb0a>:4: TextLineReader.__init__ (from tensorflow.python.ops.io_ops) is deprecated and will be removed in a future version.\n",
      "Instructions for updating:\n",
      "Queue-based input pipelines have been replaced by `tf.data`. Use `tf.data.TextLineDataset`.\n"
     ]
    },
    {
     "data": {
      "text/plain": [
       "[<tf.Tensor 'DecodeCSV:0' shape=() dtype=float32>,\n",
       " <tf.Tensor 'DecodeCSV:1' shape=() dtype=float32>,\n",
       " <tf.Tensor 'DecodeCSV:2' shape=() dtype=float32>,\n",
       " <tf.Tensor 'DecodeCSV:3' shape=() dtype=float32>]"
      ]
     },
     "execution_count": 82,
     "metadata": {},
     "output_type": "execute_result"
    }
   ],
   "source": [
    "filename_queue = tf.train.string_input_producer(\n",
    "    ['data/data-01-test-score.csv'], shuffle=False, name='filename_queue')\n",
    "\n",
    "reader = tf.TextLineReader()\n",
    "key, value = reader.read(filename_queue)\n",
    "\n",
    "# Default values, in case of empty columns. Also specifies the type of the\n",
    "# decoded result.\n",
    "record_defaults = [[0.], [0.], [0.], [0.]]\n",
    "xy = tf.decode_csv(value, record_defaults=record_defaults)\n",
    "\n",
    "xy"
   ]
  },
  {
   "cell_type": "code",
   "execution_count": 85,
   "metadata": {},
   "outputs": [
    {
     "data": {
      "text/plain": [
       "<tf.Tensor 'batch_2:1' shape=(10, 1) dtype=float32>"
      ]
     },
     "execution_count": 85,
     "metadata": {},
     "output_type": "execute_result"
    }
   ],
   "source": [
    "train_x_batch, train_y_batch=tf.train.batch([xy[0:-1],xy[-1:]],batch_size=10)\n",
    "train_x_batch\n",
    "train_y_batch"
   ]
  },
  {
   "cell_type": "code",
   "execution_count": 86,
   "metadata": {},
   "outputs": [],
   "source": [
    "X = tf.placeholder(tf.float32, shape=[None, 3])\n",
    "Y = tf.placeholder(tf.float32, shape=[None, 1])\n",
    "\n",
    "W = tf.Variable(tf.random_normal([3, 1]), name='weight')\n",
    "b = tf.Variable(tf.random_normal([1]), name='bias')\n",
    "\n",
    "# Hypothesis\n",
    "hypothesis = tf.matmul(X, W) + b\n",
    "\n",
    "# Simplified cost/loss function\n",
    "cost = tf.reduce_mean(tf.square(hypothesis - Y))\n",
    "\n",
    "# Minimize\n",
    "optimizer = tf.train.GradientDescentOptimizer(learning_rate=1e-5)\n",
    "train = optimizer.minimize(cost)"
   ]
  },
  {
   "cell_type": "code",
   "execution_count": null,
   "metadata": {},
   "outputs": [
    {
     "name": "stdout",
     "output_type": "stream",
     "text": [
      "WARNING:tensorflow:From <ipython-input-88-1b5e024fa0d7>:5: start_queue_runners (from tensorflow.python.training.queue_runner_impl) is deprecated and will be removed in a future version.\n",
      "Instructions for updating:\n",
      "To construct input pipelines, use the `tf.data` module.\n"
     ]
    }
   ],
   "source": [
    "with tf.Session() as sess:\n",
    "    sess.run(tf.global_variables_initializer())\n",
    "    \n",
    "    coord = tf.train.Coordinator()\n",
    "    threads=tf.train.start_queue_runners(sess=sess,coord=coord)\n",
    "    \n",
    "    for step in range(2001):\n",
    "        x_batch, y_batch = sess.run([train_x_batch, train_y_batch])\n",
    "        sess.run(train,feed_dict={X:x_batch, y:y_batch})\n",
    "        \n",
    "    coord.request_stop()\n",
    "    coord.join(threads)\n",
    "    \n",
    "    print(\"Your score will be \",\n",
    "      sess.run(hypothesis, feed_dict={X: [[100, 70, 101]]}))\n",
    "\n",
    "    print(\"Other scores will be \",\n",
    "      sess.run(hypothesis, feed_dict={X: [[60, 70, 110], [90, 100, 80]]}))\n"
   ]
  },
  {
   "cell_type": "code",
   "execution_count": null,
   "metadata": {},
   "outputs": [],
   "source": []
  },
  {
   "cell_type": "code",
   "execution_count": null,
   "metadata": {},
   "outputs": [],
   "source": []
  },
  {
   "cell_type": "code",
   "execution_count": null,
   "metadata": {},
   "outputs": [],
   "source": []
  },
  {
   "cell_type": "code",
   "execution_count": null,
   "metadata": {},
   "outputs": [],
   "source": []
  },
  {
   "cell_type": "code",
   "execution_count": null,
   "metadata": {},
   "outputs": [],
   "source": []
  }
 ],
 "metadata": {
  "kernelspec": {
   "display_name": "Python 3",
   "language": "python",
   "name": "python3"
  },
  "language_info": {
   "codemirror_mode": {
    "name": "ipython",
    "version": 3
   },
   "file_extension": ".py",
   "mimetype": "text/x-python",
   "name": "python",
   "nbconvert_exporter": "python",
   "pygments_lexer": "ipython3",
   "version": "3.7.6"
  }
 },
 "nbformat": 4,
 "nbformat_minor": 4
}
