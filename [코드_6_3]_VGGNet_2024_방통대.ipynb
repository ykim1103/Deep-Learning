{
  "nbformat": 4,
  "nbformat_minor": 0,
  "metadata": {
    "colab": {
      "provenance": [],
      "include_colab_link": true
    },
    "kernelspec": {
      "name": "python3",
      "display_name": "Python 3"
    },
    "language_info": {
      "name": "python"
    }
  },
  "cells": [
    {
      "cell_type": "markdown",
      "metadata": {
        "id": "view-in-github",
        "colab_type": "text"
      },
      "source": [
        "<a href=\"https://colab.research.google.com/github/ykim1103/Deep-Learning/blob/master/%5B%EC%BD%94%EB%93%9C_6_3%5D_VGGNet_2024_%EB%B0%A9%ED%86%B5%EB%8C%80.ipynb\" target=\"_parent\"><img src=\"https://colab.research.google.com/assets/colab-badge.svg\" alt=\"Open In Colab\"/></a>"
      ]
    },
    {
      "cell_type": "code",
      "execution_count": null,
      "metadata": {
        "id": "ppTTEXRFpfhV"
      },
      "outputs": [],
      "source": [
        "from tensorflow import keras\n",
        "from keras import layers, Input\n",
        "from keras.datasets import cifar10\n",
        "import cv2\n",
        "import numpy as np"
      ]
    },
    {
      "cell_type": "code",
      "source": [
        "def load_cifar10_data(img_rows, img_cols):\n",
        "\n",
        "    (x_train, y_train), (x_test, y_test) = cifar10.load_data()\n",
        "    x_train = x_train[0:2000, :, :, :]\n",
        "    y_train = y_train[0:2000]\n",
        "\n",
        "    x_test = x_test[0:500, :, :, :]\n",
        "    y_test = y_test[0:500]\n",
        "\n",
        "    x_train = np.array([cv2.resize(img, (img_rows, img_cols)) for img in x_train[:, :, :, :]])\n",
        "    x_test = np.array([cv2.resize(img, (img_rows, img_cols)) for img in x_test[:, :, :, :]])\n",
        "\n",
        "    x_train = x_train.astype('float32')\n",
        "    x_test = x_test.astype('float32')\n",
        "\n",
        "    x_train = x_train / 255.0\n",
        "    x_test = x_test / 255.0\n",
        "\n",
        "    return x_train, y_train, x_test, y_test\n",
        "\n",
        "x_train, y_train, x_test, y_test = load_cifar10_data(224, 224)\n",
        "img_input = Input(shape=(224, 224, 3))"
      ],
      "metadata": {
        "id": "CYo8AJYRplho",
        "outputId": "baffc672-9187-4e79-8034-aeacd9a36a1c",
        "colab": {
          "base_uri": "https://localhost:8080/"
        }
      },
      "execution_count": null,
      "outputs": [
        {
          "output_type": "stream",
          "name": "stdout",
          "text": [
            "Downloading data from https://www.cs.toronto.edu/~kriz/cifar-10-python.tar.gz\n",
            "\u001b[1m170498071/170498071\u001b[0m \u001b[32m━━━━━━━━━━━━━━━━━━━━\u001b[0m\u001b[37m\u001b[0m \u001b[1m3s\u001b[0m 0us/step\n"
          ]
        }
      ]
    },
    {
      "cell_type": "code",
      "source": [
        "VGG16 = layers.Conv2D(64, (3, 3), activation='relu',\n",
        "                  padding='same')(img_input)\n",
        "VGG16 = layers.Conv2D(64, (3, 3),activation='relu',\n",
        "                  padding='same')(VGG16)\n",
        "VGG16 = layers.MaxPooling2D((2, 2), strides=(2, 2))(VGG16)\n",
        "VGG16 = layers.Conv2D(128, (3, 3),activation='relu',\n",
        "                  padding='same')(VGG16)\n",
        "VGG16 = layers.Conv2D(128, (3, 3), activation='relu',\n",
        "                  padding='same')(VGG16)\n",
        "VGG16 = layers.MaxPooling2D((2, 2), strides=(2, 2))(VGG16)\n",
        "VGG16 = layers.Conv2D(\n",
        "  256, (3, 3), activation='relu', padding='same')(VGG16)\n",
        "VGG16 = layers.Conv2D(\n",
        "  256, (3, 3), activation='relu', padding='same')(VGG16)\n",
        "VGG16 = layers.Conv2D(\n",
        "  256, (3, 3), activation='relu', padding='same')(VGG16)\n",
        "VGG16 = layers.MaxPooling2D((2, 2), strides=(2, 2))(VGG16)\n",
        "VGG16 = layers.Conv2D(\n",
        "  512, (3, 3), activation='relu', padding='same')(VGG16)\n",
        "VGG16 = layers.Conv2D(\n",
        "  512, (3, 3), activation='relu', padding='same')(VGG16)\n",
        "VGG16 = layers.Conv2D(\n",
        "  512, (3, 3), activation='relu', padding='same')(VGG16)\n",
        "VGG16 = layers.MaxPooling2D((2, 2), strides=(2, 2))(VGG16)\n",
        "VGG16 = layers.Conv2D(\n",
        "  512, (3, 3), activation='relu', padding='same')(VGG16)\n",
        "VGG16 = layers.Conv2D(\n",
        "  512, (3, 3), activation='relu', padding='same')(VGG16)\n",
        "VGG16 = layers.Conv2D(\n",
        "  512, (3, 3), activation='relu', padding='same')(VGG16)\n",
        "VGG16 = layers.MaxPooling2D((2, 2), strides=(2, 2))(VGG16)\n",
        "VGG16 = layers.Flatten()(VGG16)\n",
        "VGG16 = layers.Dense(4096, activation='relu')(VGG16)\n",
        "VGG16 = layers.Dense(4096, activation='relu')(VGG16)\n",
        "VGG16 = layers.Dense(10, activation='softmax')(VGG16)\n",
        "model = keras.Model(inputs=img_input, outputs=VGG16)"
      ],
      "metadata": {
        "id": "Rsyj4qWgplkQ"
      },
      "execution_count": null,
      "outputs": []
    },
    {
      "cell_type": "code",
      "source": [
        "model.compile(optimizer='adam',\n",
        "              loss='sparse_categorical_crossentropy',\n",
        "              metrics=['accuracy'])\n",
        "model.fit(x_train, y_train, epochs=5, verbose=1)"
      ],
      "metadata": {
        "colab": {
          "base_uri": "https://localhost:8080/"
        },
        "id": "thTjUJBMplmo",
        "outputId": "326b9e1f-097b-439c-c593-45ffb042fce7"
      },
      "execution_count": null,
      "outputs": [
        {
          "output_type": "stream",
          "name": "stdout",
          "text": [
            "Epoch 1/5\n"
          ]
        }
      ]
    },
    {
      "cell_type": "code",
      "source": [
        "score = model.evaluate(x_test, y_test)\n",
        "print('테스트 정확도 :', score[1])"
      ],
      "metadata": {
        "id": "TlK-2WGVplpA"
      },
      "execution_count": null,
      "outputs": []
    }
  ]
}