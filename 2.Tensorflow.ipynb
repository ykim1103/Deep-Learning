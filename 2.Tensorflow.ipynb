{
 "cells": [
  {
   "cell_type": "markdown",
   "metadata": {},
   "source": [
    "# 2. Tensorflow(텐서플로우) (핸즈온 p.461)\n",
    "           - 딥러닝전용 수치계산 라이브러리"
   ]
  },
  {
   "cell_type": "code",
   "execution_count": 28,
   "metadata": {},
   "outputs": [
    {
     "name": "stdout",
     "output_type": "stream",
     "text": [
      "1.15.0\n"
     ]
    }
   ],
   "source": [
    "# pip install tensorflow==1.15\n",
    "\n",
    "import tensorflow as tf\n",
    "print(tf.__version__)   # 텐서플로우 설치버전 확인"
   ]
  },
  {
   "cell_type": "code",
   "execution_count": 29,
   "metadata": {},
   "outputs": [
    {
     "name": "stdout",
     "output_type": "stream",
     "text": [
      "('64bit', 'WindowsPE')\n"
     ]
    }
   ],
   "source": [
    "import platform\n",
    "\n",
    "print(platform.architecture())"
   ]
  },
  {
   "cell_type": "code",
   "execution_count": null,
   "metadata": {},
   "outputs": [],
   "source": [
    "#  tensorflow 2.xx 버전을 위한 가상환경만들기  (cmd 창에서 하기)\n",
    "\n",
    "\n",
    "'''\n",
    "conda create -n tf2 python=2.8 anaconda\n",
    "\n",
    "conda create -n tf2 anaconda\n",
    "\n",
    "\n",
    "# set CONDA_FORCE_64BIT=1    -> 64비트로 안깔려있으면 해주기\n",
    "\n",
    "\n",
    "\n",
    "\n",
    "\n",
    "#가상환경접속\n",
    "activate tf2\n",
    "\n",
    "\n",
    "#base로 돌아올 때\n",
    "deactivate\n",
    "\n",
    "\n",
    "#가상환경삭제\n",
    "conda remove --name 가상환경이름 --all\n",
    "\n",
    "\n",
    "#가상환경에서 tensorflow 버전2 설치\n",
    "pip install tensorflow\n",
    " \n",
    " \n",
    " \n",
    "# 가상환경에서 주피터를 다시 새로 열어줘야 한다. \n",
    "'''\n"
   ]
  },
  {
   "cell_type": "code",
   "execution_count": 30,
   "metadata": {},
   "outputs": [
    {
     "data": {
      "text/plain": [
       "<tf.Tensor 'Const_10:0' shape=() dtype=string>"
      ]
     },
     "execution_count": 30,
     "metadata": {},
     "output_type": "execute_result"
    }
   ],
   "source": [
    "hello = tf.constant(\"Hello, TensorFlow!\")\n",
    "hello               # 텐서플로우에서는   hello에 담아둔 헬로우 텐서플로우가 바로 출력되지 않는다. \n",
    "#                     그냥 문자열만 생성된 것이다. "
   ]
  },
  {
   "cell_type": "code",
   "execution_count": 31,
   "metadata": {},
   "outputs": [
    {
     "name": "stdout",
     "output_type": "stream",
     "text": [
      "b'Hello, TensorFlow!'\n"
     ]
    }
   ],
   "source": [
    "sess = tf.Session()                  \n",
    "print(sess.run(hello))              # 위에 생셩된 문자가 세션을 통해 실제로 실행되는 것이다. "
   ]
  },
  {
   "cell_type": "code",
   "execution_count": 32,
   "metadata": {},
   "outputs": [
    {
     "name": "stdout",
     "output_type": "stream",
     "text": [
      "Tensor(\"Const_11:0\", shape=(), dtype=int32)\n"
     ]
    }
   ],
   "source": [
    "a=tf.constant(10)\n",
    "print(a)            # 10 이 실행되는 것이 아니라 10이 설정되어 있게 하는 것(?)이 출력된다. "
   ]
  },
  {
   "cell_type": "code",
   "execution_count": 33,
   "metadata": {},
   "outputs": [
    {
     "data": {
      "text/plain": [
       "<tf.Tensor 'Const_12:0' shape=() dtype=int32>"
      ]
     },
     "execution_count": 33,
     "metadata": {},
     "output_type": "execute_result"
    }
   ],
   "source": [
    "b=tf.constant(20)\n",
    "b"
   ]
  },
  {
   "cell_type": "code",
   "execution_count": 34,
   "metadata": {},
   "outputs": [
    {
     "data": {
      "text/plain": [
       "<tf.Tensor 'Add_25:0' shape=() dtype=int32>"
      ]
     },
     "execution_count": 34,
     "metadata": {},
     "output_type": "execute_result"
    }
   ],
   "source": [
    "c=tf.add(a,b)\n",
    "c"
   ]
  },
  {
   "cell_type": "code",
   "execution_count": 35,
   "metadata": {},
   "outputs": [
    {
     "data": {
      "text/plain": [
       "30"
      ]
     },
     "execution_count": 35,
     "metadata": {},
     "output_type": "execute_result"
    }
   ],
   "source": [
    "sess=tf.Session()\n",
    "sess.run(a)\n",
    "sess.run(c)"
   ]
  },
  {
   "cell_type": "code",
   "execution_count": 36,
   "metadata": {},
   "outputs": [
    {
     "name": "stdout",
     "output_type": "stream",
     "text": [
      "Tensor(\"add_26:0\", shape=(1,), dtype=int32)\n",
      "[25]\n"
     ]
    }
   ],
   "source": [
    "a=tf.constant([5])\n",
    "b=tf.constant([10])\n",
    "c=tf.constant([2])\n",
    "\n",
    "d=a+b*c\n",
    "print(d)\n",
    "\n",
    "sess=tf.Session()\n",
    "print(sess.run(d))"
   ]
  },
  {
   "cell_type": "markdown",
   "metadata": {},
   "source": [
    "### 구성요소\n",
    "\n",
    "     참고: https://wotres.tistory.com/entry/tfconstant-tfVariable-tfplaceholder-%EC%B0%A8%EC%9D%B4\n",
    "     + constant()\n",
    "            \n",
    "            tf.constant(\n",
    "                    value,dtype=None, shape=None, name='Const', verify_shape=False )\n",
    "            - 절대적으로 변하지 않는 상수를 의미\n",
    "            - 자체적으로 그래프를 갖는다.\n",
    "                    \n",
    "     + Variable()\n",
    "            \n",
    "            __init__(\n",
    "            initial_value=None,\n",
    "            trainable=None,\n",
    "            collections=None,\n",
    "            validate_shape=True,\n",
    "            caching_device=None,\n",
    "            name=None,\n",
    "            variable_def=None,\n",
    "            dtype=None,\n",
    "            expected_shape=None,\n",
    "            import_scope=None,\n",
    "            constraint=None,\n",
    "            use_resource=None,\n",
    "            synchronization=tf.VariableSynchronization.AUTO,\n",
    "            aggregation=tf.VariableAggregation.NONE,\n",
    "            shape=None\n",
    "          )\n",
    "            \n",
    "            - 객체로 정의\n",
    "            - weight(가중치)를 저장하는 변수\n",
    "            - 사용 전에 반드시 초기화 \n",
    "            \n",
    "     + Placeholder()\n",
    "     \n",
    "              tf.placeholder(\n",
    "                  dtype,\n",
    "                  shape=None,\n",
    "                  name=None\n",
    "              )  \n",
    "     \n",
    "            - 그래프를 만들지 않는다.\n",
    "            - 입력된 데이터를 텐서와 매핑하는 역할"
   ]
  },
  {
   "cell_type": "code",
   "execution_count": 21,
   "metadata": {},
   "outputs": [
    {
     "data": {
      "text/plain": [
       "<tensorflow.python.summary.writer.writer.FileWriter at 0x19370b3ac08>"
      ]
     },
     "execution_count": 21,
     "metadata": {},
     "output_type": "execute_result"
    }
   ],
   "source": [
    "# Tensorboard\n",
    "\n",
    "tf.summary.FileWriter('log_dir',graph=sess.graph)\n",
    "\n",
    "# 도스창에서     tensorboard --logdir=log_dir"
   ]
  },
  {
   "cell_type": "markdown",
   "metadata": {},
   "source": [
    "### variable"
   ]
  },
  {
   "cell_type": "code",
   "execution_count": 20,
   "metadata": {},
   "outputs": [
    {
     "name": "stdout",
     "output_type": "stream",
     "text": [
      "Tensor(\"add_21:0\", shape=(1,), dtype=int32)\n"
     ]
    },
    {
     "data": {
      "text/plain": [
       "array([10])"
      ]
     },
     "execution_count": 20,
     "metadata": {},
     "output_type": "execute_result"
    }
   ],
   "source": [
    "v1= tf.Variable(initial_value=[5])\n",
    "v2= tf.Variable([3])\n",
    "v3= tf.Variable([2])\n",
    "\n",
    "v4=v1+v2+v3\n",
    "print(v4)\n",
    "\n",
    "sess=tf.Session()\n",
    "#sess.run(tf.initialize_all_variables)   # variable은 항상 초기화를 하고 사용해야한다.\n",
    "sess.run(tf.global_variables_initializer())     # variable은 항상 초기화를 하고 사용해야한다\n",
    "sess.run(v4)"
   ]
  },
  {
   "cell_type": "code",
   "execution_count": 21,
   "metadata": {},
   "outputs": [
    {
     "data": {
      "text/plain": [
       "<tensorflow.python.summary.writer.writer.FileWriter at 0x1e6c520f388>"
      ]
     },
     "execution_count": 21,
     "metadata": {},
     "output_type": "execute_result"
    }
   ],
   "source": [
    "tf.summary.FileWriter('log_dir',graph=sess.graph)"
   ]
  },
  {
   "cell_type": "code",
   "execution_count": 22,
   "metadata": {},
   "outputs": [],
   "source": [
    "sess.close()"
   ]
  },
  {
   "cell_type": "markdown",
   "metadata": {},
   "source": [
    "### Placeholder"
   ]
  },
  {
   "cell_type": "code",
   "execution_count": 37,
   "metadata": {},
   "outputs": [
    {
     "name": "stdout",
     "output_type": "stream",
     "text": [
      "107.0\n"
     ]
    }
   ],
   "source": [
    "a= 5\n",
    "b= 2\n",
    "c= 3\n",
    "\n",
    "p1= tf.placeholder(dtype=tf.float32)\n",
    "p2= tf.placeholder(dtype=tf.float32)\n",
    "p3= tf.placeholder(dtype=tf.float32)\n",
    "\n",
    "result= p1+p2+p3\n",
    "\n",
    "sess=tf.Session()\n",
    "a=sess.run(result,feed_dict={p1:a,p2:b,p3:100})\n",
    "print(a)"
   ]
  },
  {
   "cell_type": "code",
   "execution_count": null,
   "metadata": {},
   "outputs": [],
   "source": []
  },
  {
   "cell_type": "code",
   "execution_count": null,
   "metadata": {},
   "outputs": [],
   "source": []
  },
  {
   "cell_type": "code",
   "execution_count": null,
   "metadata": {},
   "outputs": [],
   "source": []
  },
  {
   "cell_type": "code",
   "execution_count": null,
   "metadata": {},
   "outputs": [],
   "source": []
  },
  {
   "cell_type": "code",
   "execution_count": null,
   "metadata": {},
   "outputs": [],
   "source": [
    "\n",
    "\n"
   ]
  },
  {
   "cell_type": "code",
   "execution_count": null,
   "metadata": {},
   "outputs": [],
   "source": []
  }
 ],
 "metadata": {
  "kernelspec": {
   "display_name": "Python 3",
   "language": "python",
   "name": "python3"
  },
  "language_info": {
   "codemirror_mode": {
    "name": "ipython",
    "version": 3
   },
   "file_extension": ".py",
   "mimetype": "text/x-python",
   "name": "python",
   "nbconvert_exporter": "python",
   "pygments_lexer": "ipython3",
   "version": "3.8.3"
  }
 },
 "nbformat": 4,
 "nbformat_minor": 4
}
