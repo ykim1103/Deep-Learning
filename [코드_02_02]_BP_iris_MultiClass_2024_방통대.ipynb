{
  "cells": [
    {
      "cell_type": "markdown",
      "metadata": {
        "id": "view-in-github",
        "colab_type": "text"
      },
      "source": [
        "<a href=\"https://colab.research.google.com/github/ykim1103/Deep-Learning/blob/master/%5B%EC%BD%94%EB%93%9C_02_02%5D_BP_iris_MultiClass_2024_%EB%B0%A9%ED%86%B5%EB%8C%80.ipynb\" target=\"_parent\"><img src=\"https://colab.research.google.com/assets/colab-badge.svg\" alt=\"Open In Colab\"/></a>"
      ]
    },
    {
      "cell_type": "markdown",
      "metadata": {
        "id": "zRGMHTl4fKPW"
      },
      "source": [
        "[1] 필요한 패키지 불러오기"
      ]
    },
    {
      "cell_type": "code",
      "execution_count": null,
      "metadata": {
        "id": "ule5DWPZfKPY"
      },
      "outputs": [],
      "source": [
        "import matplotlib.pyplot as plt\n",
        "import numpy as np\n",
        "from sklearn.datasets import load_iris"
      ]
    },
    {
      "cell_type": "markdown",
      "metadata": {
        "id": "wjkycTGhfKPZ"
      },
      "source": [
        "[2] 데이터 준비 함수 정의하기"
      ]
    },
    {
      "cell_type": "code",
      "execution_count": null,
      "metadata": {
        "id": "PlB11xL6fKPa"
      },
      "outputs": [],
      "source": [
        "def prepare_data():\n",
        "    iris = load_iris()           # iris data set 읽기\n",
        "    X = iris.data[:, 2:]         # 4개의 특징 중 꽃잎의 길이와 폭 선택\n",
        "    y = iris.target              # 각 표본의 레이블\n",
        "    lbl_str = iris.target_names  # 'setosa', 'versicolor', 'virginica'\n",
        "    return X, y, lbl_str"
      ]
    },
    {
      "cell_type": "markdown",
      "metadata": {
        "id": "Dh_nCyv_fKPa"
      },
      "source": [
        "[3] 활성함수 - 시그모이드와 소프트맥스"
      ]
    },
    {
      "cell_type": "code",
      "execution_count": null,
      "metadata": {
        "id": "jisBX_znfKPa"
      },
      "outputs": [],
      "source": [
        "def sigmoid(x):\n",
        "    ''' x : numpy array '''\n",
        "    return 1 / (1 + np.exp(-x))\n",
        "\n",
        "def softmax(x):\n",
        "    ''' x : numpy array '''\n",
        "    o = np.exp(x)\n",
        "    return o / o.sum()"
      ]
    },
    {
      "cell_type": "markdown",
      "metadata": {
        "id": "yZt4hl7xfKPb"
      },
      "source": [
        "[4] 손실함수 - mse, cross entropy"
      ]
    },
    {
      "cell_type": "code",
      "execution_count": null,
      "metadata": {
        "id": "taaYiGvAfKPb"
      },
      "outputs": [],
      "source": [
        "def loss_mse(y, y_hat):\n",
        "    loss = 0.0\n",
        "    for i in range(len(y)):\n",
        "        err = y_hat[i] - y[i]\n",
        "        loss += np.dot(err, err)\n",
        "    return loss / len(y)\n",
        "\n",
        "def loss_ce(y, y_hat):\n",
        "    loss = 0.0\n",
        "    if len(y.shape) == 1 or y.shape[1] == 1:\n",
        "        for i in range(len(y)):\n",
        "            loss += -(y[i] * np.log(y_hat[i])\n",
        "                      + (1-y[i]) * np.log((1-y_hat[i]))).sum()\n",
        "    else:\n",
        "        for i in range(len(y)):\n",
        "            loss += -(y[i] * np.log(y_hat[i])).sum()\n",
        "    return loss / len(y)"
      ]
    },
    {
      "cell_type": "markdown",
      "metadata": {
        "id": "g_gt2V3ZfKPc"
      },
      "source": [
        "[5] Dense 클래스 - 완전연결층"
      ]
    },
    {
      "cell_type": "code",
      "execution_count": null,
      "metadata": {
        "id": "VyD1k_kifKPc"
      },
      "outputs": [],
      "source": [
        "class Dense():\n",
        "    def __init__(self, nIn, nOut, activation='sigmoid', loss='mse'):\n",
        "        self.nIn = nIn          # 입력의 수\n",
        "        self.nOut = nOut        # 출력의 수\n",
        "        # 가중치(w)와 바이어스(b)를 He normal 방식으로 초기화\n",
        "        rnd = np.random.default_rng()\n",
        "        self.w = rnd.normal(scale = np.sqrt(2.0 / self.nIn),\n",
        "                    size = (self.nOut, self.nIn)).astype(np.float32)\n",
        "        self.b = rnd.normal(scale = np.sqrt(2.0 / self.nIn),\n",
        "                    size = self.nOut).astype(np.float32)\n",
        "        # 활성함수 설정\n",
        "        if activation == 'softmax':\n",
        "            self.activation = softmax\n",
        "            self.dE_du = self.dE_du_softmax\n",
        "        else:   # sigmoid\n",
        "            self.activation = sigmoid\n",
        "            if loss == 'ce':    self.dE_du = self.dE_du_sigmoid_ce\n",
        "            else:                self.dE_du = self.dE_du_sigmoid_mse\n",
        "            self.do_du = self.do_du_sigmoid\n",
        "        # 모멘텀을 적용하기 위한 속도의 초깃값 설정\n",
        "        self.velocity_w, self.velocity_b = 0.0, 0.0\n",
        "\n",
        "    # 입력 X에 대한 출력 계산\n",
        "    def output(self, X):\n",
        "        self.in_vec = X    # bp 학습을 위해 입력 보관\n",
        "        # 입력의 가중 합 계산\n",
        "        u = np.array([np.dot(self.w[i], X) + self.b[i]\n",
        "                       for i in range(self.nOut)], dtype=np.float32)\n",
        "        # 활성함수를 적용한 출력 계산\n",
        "        self.out_vec = self.activation(u)  # bp 학습을 위해 출력 보관\n",
        "        return self.out_vec\n",
        "\n",
        "    # 경사 하강법에 따라 w 및 b 갱신\n",
        "    def gd(self, dw, db, momentum=0):\n",
        "        self.velocity_w = self.velocity_w * momentum - dw\n",
        "        self.velocity_b = self.velocity_b * momentum - db\n",
        "        self.w += self.velocity_w\n",
        "        self.b += self.velocity_b\n",
        "\n",
        "    def dE_du_sigmoid_mse(self, y):\n",
        "        return (self.out_vec - y) * self.do_du_sigmoid()\n",
        "\n",
        "    def dE_du_sigmoid_ce(self, y):\n",
        "        return self.out_vec - y\n",
        "\n",
        "    def do_du_sigmoid(self):\n",
        "        return self.out_vec * (1 - self.out_vec)\n",
        "\n",
        "    def dE_du_softmax(self, y):\n",
        "        return self.out_vec - y"
      ]
    },
    {
      "cell_type": "markdown",
      "metadata": {
        "id": "DvG9s5myfKPc"
      },
      "source": [
        "[6] BP_Model : BP 학습을 하는 피드포워드 모델 클래스"
      ]
    },
    {
      "cell_type": "code",
      "execution_count": null,
      "metadata": {
        "id": "fTFBH6sCfKPc"
      },
      "outputs": [],
      "source": [
        "class BP_Model():\n",
        "    def __init__(self, nUnitLst, loss='mse',\n",
        "                  activation_h='sigmoid', activation_o='sigmoid'):\n",
        "        layers = []\n",
        "        self.nLayers = len(nUnitLst) - 1\n",
        "        # 은닉층 구성\n",
        "        for i in range(self.nLayers - 1):\n",
        "            layers.append(Dense(nUnitLst[i], nUnitLst[i+1],\n",
        "                                  activation=activation_h, loss=loss))\n",
        "        # 출력층 구성\n",
        "        layers.append(Dense(nUnitLst[self.nLayers-1],\n",
        "            nUnitLst[self.nLayers], activation=activation_o, loss=loss))\n",
        "        self.layers = np.array(layers, dtype=object)\n",
        "        self.ohe = np.identity(nUnitLst[-1])\n",
        "        if loss == 'ce':\n",
        "            self.loss = loss_ce\n",
        "        else:\n",
        "            self.loss = loss_mse\n",
        "\n",
        "    def predict(self, x):\n",
        "        res = []\n",
        "        for j in range(len(x)):\n",
        "            xx = x[j]\n",
        "            for i in range(self.nLayers):\n",
        "                xx = self.layers[i].output(xx)\n",
        "            res.append(xx)\n",
        "        return np.array(res)\n",
        "\n",
        "    def fit(self, X, y, N, epochs, eta=0.01, momentum=0):\n",
        "        # 학습표본의 인덱스를 무작위 순서로 섞음\n",
        "        idx = list(range(N))\n",
        "        np.random.shuffle(idx)\n",
        "        X = np.array([X[idx[i]] for i in range(N)])\n",
        "        if self.layers[self.nLayers-1].nOut == 1:\n",
        "            y = np.array([[y[idx[i]]] for i in range(N)])\n",
        "        else:\n",
        "            y = np.array([self.ohe[y[idx[i]]] for i in range(N)])\n",
        "\n",
        "        f = 'Epochs = {:4d}   Loss = {:8.5f}'\n",
        "        # w와 b의 변화량을 저장할 수 있게 준비함\n",
        "        dw, db = [], []\n",
        "        for i in range(self.nLayers):\n",
        "            dw.append(np.zeros((self.layers[i].nOut,\n",
        "                            self.layers[i].nIn), dtype=np.float32))\n",
        "            db.append(np.zeros(self.layers[i].nOut, dtype=np.float32))\n",
        "        for n in range(epochs):\n",
        "            for m in range(N):\n",
        "                # output layer\n",
        "                iCurrLayer = self.nLayers - 1\n",
        "                currLayer = self.layers[iCurrLayer]\n",
        "                self.predict([X[m]])\n",
        "                delta = currLayer.dE_du(y[m])\n",
        "                du_dw = currLayer.in_vec\n",
        "                for j in range(currLayer.nOut):\n",
        "                    dw[iCurrLayer][j] = eta * delta[j] * du_dw\n",
        "                    db[iCurrLayer][j] = eta * delta[j]\n",
        "                nextDelta = delta\n",
        "                nextLayer = currLayer\n",
        "\n",
        "                # hidden layers\n",
        "                for iCurrLayer in range(self.nLayers-2, -1, -1):\n",
        "                    currLayer = self.layers[iCurrLayer]\n",
        "                    dE_do = []\n",
        "                    for nO in range(currLayer.nOut):\n",
        "                        sDeltaW = nextDelta * nextLayer.w[:, nO]\n",
        "                        dE_do.append(sDeltaW.sum())\n",
        "                    delta = dE_do  * currLayer.do_du()\n",
        "                    du_dw = currLayer.in_vec\n",
        "                    for j in range(currLayer.nOut):\n",
        "                        dw[iCurrLayer][j] = eta * delta[j] * du_dw\n",
        "                        db[iCurrLayer][j] = eta * delta[j]\n",
        "                    nextDelta = delta\n",
        "                    nextLayer = currLayer\n",
        "\n",
        "                for i in range(self.nLayers):\n",
        "                    self.layers[i].gd(dw[i], db[i], momentum)\n",
        "\n",
        "            # 학습 과정 출력\n",
        "            if n < 10 or (n+1) % 100 == 0:\n",
        "                y_hat = self.predict(X)\n",
        "                print(f.format(n+1, self.loss(y, y_hat)))"
      ]
    },
    {
      "cell_type": "markdown",
      "metadata": {
        "id": "ldVuZ1c7fKPd"
      },
      "source": [
        "[7] BP 모델의 분류 결과 시각화"
      ]
    },
    {
      "cell_type": "code",
      "execution_count": null,
      "metadata": {
        "id": "L1bWpymtfKPd"
      },
      "outputs": [],
      "source": [
        "def visualize(net, X, y, multi_class, labels, class_id, colors,\n",
        "               xlabel, ylabel, legend_loc='lower right'):\n",
        "    # 데이터의 최소~최대 범위를 0.05 간격의 좌표값으로 나열\n",
        "    x_max = np.ceil(np.max(X[:, 0])).astype(int)\n",
        "    x_min = np.floor(np.min(X[:, 0])).astype(int)\n",
        "    y_max = np.ceil(np.max(X[:, 1])).astype(int)\n",
        "    y_min = np.floor(np.min(X[:, 1])).astype(int)\n",
        "    x_lin = np.linspace(x_min, x_max, (x_max-x_min)*20+1)\n",
        "    y_lin = np.linspace(y_min, y_max, (y_max-y_min)*20+1)\n",
        "\n",
        "    # x_lin과 y_lin의 격자좌표의 x와 y 값 구하기\n",
        "    x_mesh, y_mesh = np.meshgrid(x_lin, y_lin)\n",
        "\n",
        "    # (x, y) 좌표의 배열로 만들어 신경망의 입력 구성\n",
        "    X_test = np.column_stack([x_mesh.ravel(), y_mesh.ravel()])\n",
        "\n",
        "    # 학습된 신경망으로 X_test에 대한 출력 계산\n",
        "    if multi_class:\n",
        "        y_hat = net.predict(X_test)\n",
        "        y_hat = np.array([np.argmax(y_hat[k])\n",
        "                            for k in range(len(y_hat))], dtype=int)\n",
        "    else:\n",
        "        y_hat = (net.predict(X_test) >= 0.5).astype(int)\n",
        "        y_hat = y_hat.reshape(len(y_hat))\n",
        "\n",
        "    # 출력할 그래프의 수평/수직 범위 설정\n",
        "    plt.xlim(x_min, x_max)\n",
        "    plt.ylim(y_min, y_max)\n",
        "\n",
        "    # 클래스별로 산점도 그리기\n",
        "    for c, i, c_name in zip(colors, labels, class_id):\n",
        "        # 격자 좌표의 클래스별 산점도\n",
        "        plt.scatter(X_test[y_hat == i, 0], X_test[y_hat == i, 1],\n",
        "                     c = c, s = 5, alpha = 0.3, edgecolors = 'none')\n",
        "        # 학습 표본의 클래스별 산점도\n",
        "        plt.scatter(X[y == i, 0], X[y == i, 1],\n",
        "                     c = c, s = 20, label=c_name)\n",
        "    # 범례의 표시 위치 지정\n",
        "    plt.legend(loc=legend_loc)\n",
        "    # x축과 y축의 레이블을 지정한 후 그래프 출력\n",
        "    plt.xlabel(xlabel, size=12)\n",
        "    plt.ylabel(ylabel, size=12)\n",
        "    plt.show()"
      ]
    },
    {
      "cell_type": "markdown",
      "metadata": {
        "id": "dj8ZqkzVfKPd"
      },
      "source": [
        "[8] 훈련 데이터 준비하기"
      ]
    },
    {
      "cell_type": "code",
      "execution_count": null,
      "metadata": {
        "id": "8l1zY_l9fKPd"
      },
      "outputs": [],
      "source": [
        "nSamples = 150\n",
        "nDim = 2\n",
        "nClasses = 3\n",
        "X, y, labels = prepare_data()"
      ]
    },
    {
      "cell_type": "markdown",
      "metadata": {
        "id": "YAnf2E4YfKPd"
      },
      "source": [
        "[9] BP_Model 객체 생성 및 학습"
      ]
    },
    {
      "cell_type": "code",
      "execution_count": null,
      "metadata": {
        "id": "YBgNkOFdfKPd"
      },
      "outputs": [],
      "source": [
        "bp_iris_multi = BP_Model([nDim, 4, nClasses], loss='ce',\n",
        "                      activation_h='sigmoid', activation_o= 'softmax')\n",
        "bp_iris_multi.fit(X, y, nSamples, epochs=1000,\n",
        "                    eta=0.01, momentum=0.9)"
      ]
    },
    {
      "cell_type": "markdown",
      "metadata": {
        "id": "w4APjZOwfKPd"
      },
      "source": [
        "[10] 특징 공간 결정 영역 시각화"
      ]
    },
    {
      "cell_type": "code",
      "execution_count": null,
      "metadata": {
        "id": "Hoj7tBdYfKPd"
      },
      "outputs": [],
      "source": [
        "visualize(bp_iris_multi, X, y,\n",
        "           multi_class=True,\n",
        "           class_id=labels,\n",
        "           labels=[0, 1, 2],\n",
        "           colors=['magenta', 'blue', 'red'],\n",
        "           xlabel='petal length',\n",
        "           ylabel='petal width')"
      ]
    }
  ],
  "metadata": {
    "kernelspec": {
      "display_name": "Python 3",
      "language": "python",
      "name": "python3"
    },
    "language_info": {
      "codemirror_mode": {
        "name": "ipython",
        "version": 3
      },
      "file_extension": ".py",
      "mimetype": "text/x-python",
      "name": "python",
      "nbconvert_exporter": "python",
      "pygments_lexer": "ipython3",
      "version": "3.7.7"
    },
    "colab": {
      "provenance": [],
      "include_colab_link": true
    }
  },
  "nbformat": 4,
  "nbformat_minor": 0
}