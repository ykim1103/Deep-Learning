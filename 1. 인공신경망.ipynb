{
 "cells": [
  {
   "cell_type": "markdown",
   "metadata": {},
   "source": [
    "# 1. 인공신경망(06.30.화) (핸즈온 p.351)"
   ]
  },
  {
   "cell_type": "markdown",
   "metadata": {},
   "source": [
    "## 1. Perceptron(퍼셉트론)\n",
    "       - 다수의 신호를 입력으로 받아 하나의 신호로 출력"
   ]
  },
  {
   "cell_type": "code",
   "execution_count": 6,
   "metadata": {},
   "outputs": [],
   "source": [
    "import numpy as np\n",
    "import pandas as pd\n",
    "import matplotlib as mpl\n",
    "import matplotlib.pyplot as plt\n",
    "import seaborn as sns\n",
    "\n",
    "import matplotlib.font_manager as fm            # 폰트 지정방법\n",
    "font_name=fm.FontProperties(fname='C:\\\\Windows\\\\Fonts\\\\malgun.ttf').get_name()     \n",
    "plt.rc('font',family=font_name)\n",
    "\n",
    "\n",
    "mpl.rcParams['axes.unicode_minus']=False\n",
    "\n",
    "from sklearn.model_selection import train_test_split\n",
    "\n",
    "# pip install mglearn\n",
    "import mglearn\n",
    "from numpy import linalg\n",
    "\n",
    "\n",
    "\n",
    "\n",
    "from sklearn.linear_model import LogisticRegression    # 회귀알고리즘\n",
    "from sklearn.svm import LinearSVC                      # 회귀알고리즘\n",
    "\n",
    "\n",
    "from sklearn.metrics import confusion_matrix\n",
    "from sklearn.metrics import classification_report"
   ]
  },
  {
   "cell_type": "code",
   "execution_count": 8,
   "metadata": {},
   "outputs": [],
   "source": [
    "# AND Gate\n",
    "# def AND_basic(x1,x2):\n",
    "#     w1,w2,theta= 0.5, 0.5, 0.7\n",
    "#     tmp= x1*w1+x2*w2\n",
    "#     if tmp <= theta:\n",
    "#         return 0\n",
    "#     else:\n",
    "#         return 1 \n",
    "\n",
    "\n",
    "\n",
    "def AND(x1,x2):\n",
    "    x=np.array([x1,x2])\n",
    "    w=np.array([0.5,0.5])\n",
    "    b=-0.7\n",
    "    \n",
    "    tmp=np.sum(w*x)+b\n",
    "    \n",
    "    if tmp <= 0:\n",
    "        return 0\n",
    "    else:\n",
    "        return 1\n",
    "    "
   ]
  },
  {
   "cell_type": "code",
   "execution_count": 10,
   "metadata": {},
   "outputs": [
    {
     "name": "stdout",
     "output_type": "stream",
     "text": [
      "(0,0) -> 0\n",
      "(1,0) -> 0\n",
      "(0,1) -> 0\n",
      "(1,1) -> 1\n"
     ]
    }
   ],
   "source": [
    "inputs=[(0,0),(1,0),(0,1),(1,1)]\n",
    "\n",
    "\n",
    "for x1,x2 in inputs:\n",
    "    y=AND(x1,x2)\n",
    "    print('({x1},{x2}) -> {y}'.format(x1=x1,x2=x2,y=y))"
   ]
  },
  {
   "cell_type": "code",
   "execution_count": 11,
   "metadata": {},
   "outputs": [],
   "source": [
    "# OR Gate\n",
    "def OR(x1,x2):\n",
    "    x=np.array([x1,x2])\n",
    "    w=np.array([0.5,0.5])\n",
    "    b=-0.2\n",
    "    \n",
    "    tmp=np.sum(w*x)+b\n",
    "    \n",
    "    if tmp <= 0:\n",
    "        return 0\n",
    "    else:\n",
    "        return 1"
   ]
  },
  {
   "cell_type": "code",
   "execution_count": 12,
   "metadata": {},
   "outputs": [
    {
     "name": "stdout",
     "output_type": "stream",
     "text": [
      "(0,0) -> 0\n",
      "(1,0) -> 1\n",
      "(0,1) -> 1\n",
      "(1,1) -> 1\n"
     ]
    }
   ],
   "source": [
    "inputs=[(0,0),(1,0),(0,1),(1,1)]\n",
    "\n",
    "for x1,x2 in inputs:\n",
    "    y=OR(x1,x2)\n",
    "    print('({x1},{x2}) -> {y}'.format(x1=x1,x2=x2,y=y))"
   ]
  },
  {
   "cell_type": "code",
   "execution_count": 13,
   "metadata": {},
   "outputs": [],
   "source": [
    "# NAND Gate (AND의 반대)\n",
    "\n",
    "def NAND(x1,x2):\n",
    "    x=np.array([x1,x2])\n",
    "    w=np.array([-0.5,-0.5])\n",
    "    b=0.7\n",
    "    \n",
    "    tmp=np.sum(w*x)+b\n",
    "    \n",
    "    if tmp <= 0:\n",
    "        return 0\n",
    "    else:\n",
    "        return 1"
   ]
  },
  {
   "cell_type": "code",
   "execution_count": 14,
   "metadata": {},
   "outputs": [
    {
     "name": "stdout",
     "output_type": "stream",
     "text": [
      "(0,0) -> 1\n",
      "(1,0) -> 1\n",
      "(0,1) -> 1\n",
      "(1,1) -> 0\n"
     ]
    }
   ],
   "source": [
    "inputs=[(0,0),(1,0),(0,1),(1,1)]\n",
    "\n",
    "for x1,x2 in inputs:\n",
    "    y=NAND(x1,x2)\n",
    "    print('({x1},{x2}) -> {y}'.format(x1=x1,x2=x2,y=y))"
   ]
  },
  {
   "cell_type": "code",
   "execution_count": 15,
   "metadata": {},
   "outputs": [],
   "source": [
    "# XOR Gate\n",
    "\n",
    "def XOR(x1,x2):\n",
    "    s1=NAND(x1,x2)\n",
    "    s2=OR(x1,x2)\n",
    "    y=AND(s1,s2)\n",
    "    \n",
    "    return y"
   ]
  },
  {
   "cell_type": "code",
   "execution_count": 16,
   "metadata": {},
   "outputs": [
    {
     "name": "stdout",
     "output_type": "stream",
     "text": [
      "(0,0) -> 0\n",
      "(1,0) -> 1\n",
      "(0,1) -> 1\n",
      "(1,1) -> 0\n"
     ]
    }
   ],
   "source": [
    "inputs=[(0,0),(1,0),(0,1),(1,1)]\n",
    "\n",
    "for x1,x2 in inputs:\n",
    "    y=XOR(x1,x2)\n",
    "    print('({x1},{x2}) -> {y}'.format(x1=x1,x2=x2,y=y))"
   ]
  },
  {
   "cell_type": "code",
   "execution_count": 17,
   "metadata": {},
   "outputs": [
    {
     "data": {
      "image/svg+xml": [
       "<?xml version=\"1.0\" encoding=\"UTF-8\" standalone=\"no\"?>\r\n",
       "<!DOCTYPE svg PUBLIC \"-//W3C//DTD SVG 1.1//EN\"\r\n",
       " \"http://www.w3.org/Graphics/SVG/1.1/DTD/svg11.dtd\">\r\n",
       "<!-- Generated by graphviz version 2.38.0 (20140413.2041)\r\n",
       " -->\r\n",
       "<!-- Title: %3 Pages: 1 -->\r\n",
       "<svg width=\"174pt\" height=\"261pt\"\r\n",
       " viewBox=\"0.00 0.00 174.00 261.00\" xmlns=\"http://www.w3.org/2000/svg\" xmlns:xlink=\"http://www.w3.org/1999/xlink\">\r\n",
       "<g id=\"graph0\" class=\"graph\" transform=\"scale(1 1) rotate(0) translate(4 257)\">\r\n",
       "<title>%3</title>\r\n",
       "<polygon fill=\"white\" stroke=\"none\" points=\"-4,4 -4,-257 170,-257 170,4 -4,4\"/>\r\n",
       "<g id=\"clust2\" class=\"cluster\"><title>cluster_2</title>\r\n",
       "<polygon fill=\"none\" stroke=\"white\" points=\"106,-89 106,-164 159,-164 159,-89 106,-89\"/>\r\n",
       "<text text-anchor=\"middle\" x=\"132.5\" y=\"-148.8\" font-family=\"Times New Roman,serif\" font-size=\"14.00\">output</text>\r\n",
       "</g>\r\n",
       "<g id=\"clust1\" class=\"cluster\"><title>cluster_0</title>\r\n",
       "<polygon fill=\"none\" stroke=\"white\" points=\"8,-8 8,-245 60,-245 60,-8 8,-8\"/>\r\n",
       "<text text-anchor=\"middle\" x=\"34\" y=\"-229.8\" font-family=\"Times New Roman,serif\" font-size=\"14.00\">inputs</text>\r\n",
       "</g>\r\n",
       "<!-- x[0] -->\r\n",
       "<g id=\"node1\" class=\"node\"><title>x[0]</title>\r\n",
       "<ellipse fill=\"none\" stroke=\"black\" cx=\"34\" cy=\"-196\" rx=\"18\" ry=\"18\"/>\r\n",
       "<text text-anchor=\"middle\" x=\"34\" y=\"-192.3\" font-family=\"Times New Roman,serif\" font-size=\"14.00\">x[0]</text>\r\n",
       "</g>\r\n",
       "<!-- y -->\r\n",
       "<g id=\"node5\" class=\"node\"><title>y</title>\r\n",
       "<ellipse fill=\"none\" stroke=\"black\" cx=\"132\" cy=\"-115\" rx=\"18\" ry=\"18\"/>\r\n",
       "<text text-anchor=\"middle\" x=\"132\" y=\"-111.3\" font-family=\"Times New Roman,serif\" font-size=\"14.00\">y</text>\r\n",
       "</g>\r\n",
       "<!-- x[0]&#45;&gt;y -->\r\n",
       "<g id=\"edge1\" class=\"edge\"><title>x[0]&#45;&gt;y</title>\r\n",
       "<path fill=\"none\" stroke=\"black\" d=\"M48.3484,-184.737C64.3252,-171.257 91.2691,-148.523 110.034,-132.69\"/>\r\n",
       "<polygon fill=\"black\" stroke=\"black\" points=\"112.379,-135.291 117.765,-126.167 107.865,-129.941 112.379,-135.291\"/>\r\n",
       "<text text-anchor=\"middle\" x=\"83\" y=\"-172.8\" font-family=\"Times New Roman,serif\" font-size=\"14.00\">w[0]</text>\r\n",
       "</g>\r\n",
       "<!-- x[1] -->\r\n",
       "<g id=\"node2\" class=\"node\"><title>x[1]</title>\r\n",
       "<ellipse fill=\"none\" stroke=\"black\" cx=\"34\" cy=\"-142\" rx=\"18\" ry=\"18\"/>\r\n",
       "<text text-anchor=\"middle\" x=\"34\" y=\"-138.3\" font-family=\"Times New Roman,serif\" font-size=\"14.00\">x[1]</text>\r\n",
       "</g>\r\n",
       "<!-- x[1]&#45;&gt;y -->\r\n",
       "<g id=\"edge2\" class=\"edge\"><title>x[1]&#45;&gt;y</title>\r\n",
       "<path fill=\"none\" stroke=\"black\" d=\"M51.7219,-137.297C66.3136,-133.193 87.7357,-127.168 104.634,-122.415\"/>\r\n",
       "<polygon fill=\"black\" stroke=\"black\" points=\"105.791,-125.726 114.47,-119.649 103.896,-118.987 105.791,-125.726\"/>\r\n",
       "<text text-anchor=\"middle\" x=\"83\" y=\"-135.8\" font-family=\"Times New Roman,serif\" font-size=\"14.00\">w[1]</text>\r\n",
       "</g>\r\n",
       "<!-- x[2] -->\r\n",
       "<g id=\"node3\" class=\"node\"><title>x[2]</title>\r\n",
       "<ellipse fill=\"none\" stroke=\"black\" cx=\"34\" cy=\"-88\" rx=\"18\" ry=\"18\"/>\r\n",
       "<text text-anchor=\"middle\" x=\"34\" y=\"-84.3\" font-family=\"Times New Roman,serif\" font-size=\"14.00\">x[2]</text>\r\n",
       "</g>\r\n",
       "<!-- x[2]&#45;&gt;y -->\r\n",
       "<g id=\"edge3\" class=\"edge\"><title>x[2]&#45;&gt;y</title>\r\n",
       "<path fill=\"none\" stroke=\"black\" d=\"M51.7219,-92.703C66.3136,-96.807 87.7357,-102.832 104.634,-107.585\"/>\r\n",
       "<polygon fill=\"black\" stroke=\"black\" points=\"103.896,-111.013 114.47,-110.351 105.791,-104.274 103.896,-111.013\"/>\r\n",
       "<text text-anchor=\"middle\" x=\"83\" y=\"-108.8\" font-family=\"Times New Roman,serif\" font-size=\"14.00\">w[2]</text>\r\n",
       "</g>\r\n",
       "<!-- x[3] -->\r\n",
       "<g id=\"node4\" class=\"node\"><title>x[3]</title>\r\n",
       "<ellipse fill=\"none\" stroke=\"black\" cx=\"34\" cy=\"-34\" rx=\"18\" ry=\"18\"/>\r\n",
       "<text text-anchor=\"middle\" x=\"34\" y=\"-30.3\" font-family=\"Times New Roman,serif\" font-size=\"14.00\">x[3]</text>\r\n",
       "</g>\r\n",
       "<!-- x[3]&#45;&gt;y -->\r\n",
       "<g id=\"edge4\" class=\"edge\"><title>x[3]&#45;&gt;y</title>\r\n",
       "<path fill=\"none\" stroke=\"black\" d=\"M48.3484,-45.2627C64.3252,-58.7431 91.2691,-81.477 110.034,-97.3098\"/>\r\n",
       "<polygon fill=\"black\" stroke=\"black\" points=\"107.865,-100.059 117.765,-103.833 112.379,-94.7092 107.865,-100.059\"/>\r\n",
       "<text text-anchor=\"middle\" x=\"83\" y=\"-83.8\" font-family=\"Times New Roman,serif\" font-size=\"14.00\">w[3]</text>\r\n",
       "</g>\r\n",
       "</g>\r\n",
       "</svg>\r\n"
      ],
      "text/plain": [
       "<graphviz.dot.Digraph at 0x22ac83c6d48>"
      ]
     },
     "execution_count": 17,
     "metadata": {},
     "output_type": "execute_result"
    }
   ],
   "source": [
    "import os\n",
    "os.environ['PATH'] += os.pathsep+ 'C:\\Program Files (x86)\\Graphviz2.38\\bin'\n",
    "\n",
    "mglearn.plots.plot_logistic_regression_graph()"
   ]
  },
  {
   "cell_type": "code",
   "execution_count": 18,
   "metadata": {},
   "outputs": [
    {
     "data": {
      "image/svg+xml": [
       "<?xml version=\"1.0\" encoding=\"UTF-8\" standalone=\"no\"?>\r\n",
       "<!DOCTYPE svg PUBLIC \"-//W3C//DTD SVG 1.1//EN\"\r\n",
       " \"http://www.w3.org/Graphics/SVG/1.1/DTD/svg11.dtd\">\r\n",
       "<!-- Generated by graphviz version 2.38.0 (20140413.2041)\r\n",
       " -->\r\n",
       "<!-- Title: %3 Pages: 1 -->\r\n",
       "<svg width=\"252pt\" height=\"261pt\"\r\n",
       " viewBox=\"0.00 0.00 252.00 261.00\" xmlns=\"http://www.w3.org/2000/svg\" xmlns:xlink=\"http://www.w3.org/1999/xlink\">\r\n",
       "<g id=\"graph0\" class=\"graph\" transform=\"scale(1 1) rotate(0) translate(4 257)\">\r\n",
       "<title>%3</title>\r\n",
       "<polygon fill=\"white\" stroke=\"none\" points=\"-4,4 -4,-257 248,-257 248,4 -4,4\"/>\r\n",
       "<g id=\"clust3\" class=\"cluster\"><title>cluster_2</title>\r\n",
       "<polygon fill=\"none\" stroke=\"white\" points=\"184,-89 184,-164 237,-164 237,-89 184,-89\"/>\r\n",
       "<text text-anchor=\"middle\" x=\"210.5\" y=\"-148.8\" font-family=\"Times New Roman,serif\" font-size=\"14.00\">output</text>\r\n",
       "</g>\r\n",
       "<g id=\"clust2\" class=\"cluster\"><title>cluster_1</title>\r\n",
       "<polygon fill=\"none\" stroke=\"white\" points=\"80,-35 80,-218 164,-218 164,-35 80,-35\"/>\r\n",
       "<text text-anchor=\"middle\" x=\"122\" y=\"-202.8\" font-family=\"Times New Roman,serif\" font-size=\"14.00\">hidden layer</text>\r\n",
       "</g>\r\n",
       "<g id=\"clust1\" class=\"cluster\"><title>cluster_0</title>\r\n",
       "<polygon fill=\"none\" stroke=\"white\" points=\"8,-8 8,-245 60,-245 60,-8 8,-8\"/>\r\n",
       "<text text-anchor=\"middle\" x=\"34\" y=\"-229.8\" font-family=\"Times New Roman,serif\" font-size=\"14.00\">inputs</text>\r\n",
       "</g>\r\n",
       "<!-- x[0] -->\r\n",
       "<g id=\"node1\" class=\"node\"><title>x[0]</title>\r\n",
       "<ellipse fill=\"none\" stroke=\"black\" cx=\"34\" cy=\"-196\" rx=\"18\" ry=\"18\"/>\r\n",
       "<text text-anchor=\"middle\" x=\"34\" y=\"-192.3\" font-family=\"Times New Roman,serif\" font-size=\"14.00\">x[0]</text>\r\n",
       "</g>\r\n",
       "<!-- h0 -->\r\n",
       "<g id=\"node5\" class=\"node\"><title>h0</title>\r\n",
       "<ellipse fill=\"none\" stroke=\"black\" cx=\"122\" cy=\"-115\" rx=\"18\" ry=\"18\"/>\r\n",
       "<text text-anchor=\"middle\" x=\"122\" y=\"-111.3\" font-family=\"Times New Roman,serif\" font-size=\"14.00\">h[0]</text>\r\n",
       "</g>\r\n",
       "<!-- x[0]&#45;&gt;h0 -->\r\n",
       "<g id=\"edge1\" class=\"edge\"><title>x[0]&#45;&gt;h0</title>\r\n",
       "<path fill=\"none\" stroke=\"black\" d=\"M47.6896,-184.048C61.6628,-170.887 84.3244,-149.543 100.757,-134.066\"/>\r\n",
       "<polygon fill=\"black\" stroke=\"black\" points=\"103.379,-136.405 108.258,-127.001 98.5791,-131.309 103.379,-136.405\"/>\r\n",
       "</g>\r\n",
       "<!-- h1 -->\r\n",
       "<g id=\"node6\" class=\"node\"><title>h1</title>\r\n",
       "<ellipse fill=\"none\" stroke=\"black\" cx=\"122\" cy=\"-61\" rx=\"18\" ry=\"18\"/>\r\n",
       "<text text-anchor=\"middle\" x=\"122\" y=\"-57.3\" font-family=\"Times New Roman,serif\" font-size=\"14.00\">h[1]</text>\r\n",
       "</g>\r\n",
       "<!-- x[0]&#45;&gt;h1 -->\r\n",
       "<g id=\"edge2\" class=\"edge\"><title>x[0]&#45;&gt;h1</title>\r\n",
       "<path fill=\"none\" stroke=\"black\" d=\"M44.5321,-181.037C59.3841,-157.723 88.1768,-112.525 105.882,-84.7317\"/>\r\n",
       "<polygon fill=\"black\" stroke=\"black\" points=\"109.004,-86.3447 111.425,-76.0302 103.1,-82.5838 109.004,-86.3447\"/>\r\n",
       "</g>\r\n",
       "<!-- h2 -->\r\n",
       "<g id=\"node7\" class=\"node\"><title>h2</title>\r\n",
       "<ellipse fill=\"none\" stroke=\"black\" cx=\"122\" cy=\"-169\" rx=\"18\" ry=\"18\"/>\r\n",
       "<text text-anchor=\"middle\" x=\"122\" y=\"-165.3\" font-family=\"Times New Roman,serif\" font-size=\"14.00\">h[2]</text>\r\n",
       "</g>\r\n",
       "<!-- x[0]&#45;&gt;h2 -->\r\n",
       "<g id=\"edge3\" class=\"edge\"><title>x[0]&#45;&gt;h2</title>\r\n",
       "<path fill=\"none\" stroke=\"black\" d=\"M51.5817,-190.794C63.836,-186.947 80.7639,-181.632 94.8355,-177.214\"/>\r\n",
       "<polygon fill=\"black\" stroke=\"black\" points=\"95.9768,-180.525 104.469,-174.19 93.88,-173.846 95.9768,-180.525\"/>\r\n",
       "</g>\r\n",
       "<!-- x[1] -->\r\n",
       "<g id=\"node2\" class=\"node\"><title>x[1]</title>\r\n",
       "<ellipse fill=\"none\" stroke=\"black\" cx=\"34\" cy=\"-142\" rx=\"18\" ry=\"18\"/>\r\n",
       "<text text-anchor=\"middle\" x=\"34\" y=\"-138.3\" font-family=\"Times New Roman,serif\" font-size=\"14.00\">x[1]</text>\r\n",
       "</g>\r\n",
       "<!-- x[1]&#45;&gt;h0 -->\r\n",
       "<g id=\"edge4\" class=\"edge\"><title>x[1]&#45;&gt;h0</title>\r\n",
       "<path fill=\"none\" stroke=\"black\" d=\"M51.5817,-136.794C63.836,-132.947 80.7639,-127.632 94.8355,-123.214\"/>\r\n",
       "<polygon fill=\"black\" stroke=\"black\" points=\"95.9768,-126.525 104.469,-120.19 93.88,-119.846 95.9768,-126.525\"/>\r\n",
       "</g>\r\n",
       "<!-- x[1]&#45;&gt;h1 -->\r\n",
       "<g id=\"edge5\" class=\"edge\"><title>x[1]&#45;&gt;h1</title>\r\n",
       "<path fill=\"none\" stroke=\"black\" d=\"M47.6896,-130.048C61.6628,-116.887 84.3244,-95.5433 100.757,-80.066\"/>\r\n",
       "<polygon fill=\"black\" stroke=\"black\" points=\"103.379,-82.405 108.258,-73.0009 98.5791,-77.3093 103.379,-82.405\"/>\r\n",
       "</g>\r\n",
       "<!-- x[1]&#45;&gt;h2 -->\r\n",
       "<g id=\"edge6\" class=\"edge\"><title>x[1]&#45;&gt;h2</title>\r\n",
       "<path fill=\"none\" stroke=\"black\" d=\"M51.5817,-147.206C63.836,-151.053 80.7639,-156.368 94.8355,-160.786\"/>\r\n",
       "<polygon fill=\"black\" stroke=\"black\" points=\"93.88,-164.154 104.469,-163.81 95.9768,-157.475 93.88,-164.154\"/>\r\n",
       "</g>\r\n",
       "<!-- x[2] -->\r\n",
       "<g id=\"node3\" class=\"node\"><title>x[2]</title>\r\n",
       "<ellipse fill=\"none\" stroke=\"black\" cx=\"34\" cy=\"-88\" rx=\"18\" ry=\"18\"/>\r\n",
       "<text text-anchor=\"middle\" x=\"34\" y=\"-84.3\" font-family=\"Times New Roman,serif\" font-size=\"14.00\">x[2]</text>\r\n",
       "</g>\r\n",
       "<!-- x[2]&#45;&gt;h0 -->\r\n",
       "<g id=\"edge7\" class=\"edge\"><title>x[2]&#45;&gt;h0</title>\r\n",
       "<path fill=\"none\" stroke=\"black\" d=\"M51.5817,-93.2059C63.836,-97.0532 80.7639,-102.368 94.8355,-106.786\"/>\r\n",
       "<polygon fill=\"black\" stroke=\"black\" points=\"93.88,-110.154 104.469,-109.81 95.9768,-103.475 93.88,-110.154\"/>\r\n",
       "</g>\r\n",
       "<!-- x[2]&#45;&gt;h1 -->\r\n",
       "<g id=\"edge8\" class=\"edge\"><title>x[2]&#45;&gt;h1</title>\r\n",
       "<path fill=\"none\" stroke=\"black\" d=\"M51.5817,-82.7941C63.836,-78.9468 80.7639,-73.6323 94.8355,-69.2144\"/>\r\n",
       "<polygon fill=\"black\" stroke=\"black\" points=\"95.9768,-72.5246 104.469,-66.1899 93.88,-65.846 95.9768,-72.5246\"/>\r\n",
       "</g>\r\n",
       "<!-- x[2]&#45;&gt;h2 -->\r\n",
       "<g id=\"edge9\" class=\"edge\"><title>x[2]&#45;&gt;h2</title>\r\n",
       "<path fill=\"none\" stroke=\"black\" d=\"M47.6896,-99.9518C61.6628,-113.113 84.3244,-134.457 100.757,-149.934\"/>\r\n",
       "<polygon fill=\"black\" stroke=\"black\" points=\"98.5791,-152.691 108.258,-156.999 103.379,-147.595 98.5791,-152.691\"/>\r\n",
       "</g>\r\n",
       "<!-- x[3] -->\r\n",
       "<g id=\"node4\" class=\"node\"><title>x[3]</title>\r\n",
       "<ellipse fill=\"none\" stroke=\"black\" cx=\"34\" cy=\"-34\" rx=\"18\" ry=\"18\"/>\r\n",
       "<text text-anchor=\"middle\" x=\"34\" y=\"-30.3\" font-family=\"Times New Roman,serif\" font-size=\"14.00\">x[3]</text>\r\n",
       "</g>\r\n",
       "<!-- x[3]&#45;&gt;h0 -->\r\n",
       "<g id=\"edge10\" class=\"edge\"><title>x[3]&#45;&gt;h0</title>\r\n",
       "<path fill=\"none\" stroke=\"black\" d=\"M47.6896,-45.9518C61.6628,-59.1126 84.3244,-80.4567 100.757,-95.934\"/>\r\n",
       "<polygon fill=\"black\" stroke=\"black\" points=\"98.5791,-98.6907 108.258,-102.999 103.379,-93.595 98.5791,-98.6907\"/>\r\n",
       "</g>\r\n",
       "<!-- x[3]&#45;&gt;h1 -->\r\n",
       "<g id=\"edge11\" class=\"edge\"><title>x[3]&#45;&gt;h1</title>\r\n",
       "<path fill=\"none\" stroke=\"black\" d=\"M51.5817,-39.2059C63.836,-43.0532 80.7639,-48.3677 94.8355,-52.7856\"/>\r\n",
       "<polygon fill=\"black\" stroke=\"black\" points=\"93.88,-56.154 104.469,-55.8101 95.9768,-49.4754 93.88,-56.154\"/>\r\n",
       "</g>\r\n",
       "<!-- x[3]&#45;&gt;h2 -->\r\n",
       "<g id=\"edge12\" class=\"edge\"><title>x[3]&#45;&gt;h2</title>\r\n",
       "<path fill=\"none\" stroke=\"black\" d=\"M44.5321,-48.9632C59.3841,-72.2774 88.1768,-117.475 105.882,-145.268\"/>\r\n",
       "<polygon fill=\"black\" stroke=\"black\" points=\"103.1,-147.416 111.425,-153.97 109.004,-143.655 103.1,-147.416\"/>\r\n",
       "</g>\r\n",
       "<!-- y -->\r\n",
       "<g id=\"node8\" class=\"node\"><title>y</title>\r\n",
       "<ellipse fill=\"none\" stroke=\"black\" cx=\"210\" cy=\"-115\" rx=\"18\" ry=\"18\"/>\r\n",
       "<text text-anchor=\"middle\" x=\"210\" y=\"-111.3\" font-family=\"Times New Roman,serif\" font-size=\"14.00\">y</text>\r\n",
       "</g>\r\n",
       "<!-- h0&#45;&gt;y -->\r\n",
       "<g id=\"edge13\" class=\"edge\"><title>h0&#45;&gt;y</title>\r\n",
       "<path fill=\"none\" stroke=\"black\" d=\"M140.403,-115C152.254,-115 168.183,-115 181.708,-115\"/>\r\n",
       "<polygon fill=\"black\" stroke=\"black\" points=\"181.916,-118.5 191.916,-115 181.916,-111.5 181.916,-118.5\"/>\r\n",
       "</g>\r\n",
       "<!-- h1&#45;&gt;y -->\r\n",
       "<g id=\"edge14\" class=\"edge\"><title>h1&#45;&gt;y</title>\r\n",
       "<path fill=\"none\" stroke=\"black\" d=\"M137.589,-70.1604C150.685,-78.3836 170.145,-90.6029 185.445,-100.21\"/>\r\n",
       "<polygon fill=\"black\" stroke=\"black\" points=\"184.01,-103.441 194.34,-105.795 187.732,-97.5129 184.01,-103.441\"/>\r\n",
       "</g>\r\n",
       "<!-- h2&#45;&gt;y -->\r\n",
       "<g id=\"edge15\" class=\"edge\"><title>h2&#45;&gt;y</title>\r\n",
       "<path fill=\"none\" stroke=\"black\" d=\"M137.589,-159.84C150.685,-151.616 170.145,-139.397 185.445,-129.79\"/>\r\n",
       "<polygon fill=\"black\" stroke=\"black\" points=\"187.732,-132.487 194.34,-124.205 184.01,-126.559 187.732,-132.487\"/>\r\n",
       "</g>\r\n",
       "</g>\r\n",
       "</svg>\r\n"
      ],
      "text/plain": [
       "<graphviz.dot.Digraph at 0x22ac93347c8>"
      ]
     },
     "execution_count": 18,
     "metadata": {},
     "output_type": "execute_result"
    }
   ],
   "source": [
    "mglearn.plots.plot_single_hidden_layer_graph()   # 히든 계층으로 많은 학습이 이루어진다. "
   ]
  },
  {
   "cell_type": "code",
   "execution_count": 19,
   "metadata": {},
   "outputs": [
    {
     "data": {
      "image/svg+xml": [
       "<?xml version=\"1.0\" encoding=\"UTF-8\" standalone=\"no\"?>\r\n",
       "<!DOCTYPE svg PUBLIC \"-//W3C//DTD SVG 1.1//EN\"\r\n",
       " \"http://www.w3.org/Graphics/SVG/1.1/DTD/svg11.dtd\">\r\n",
       "<!-- Generated by graphviz version 2.38.0 (20140413.2041)\r\n",
       " -->\r\n",
       "<!-- Title: %3 Pages: 1 -->\r\n",
       "<svg width=\"378pt\" height=\"261pt\"\r\n",
       " viewBox=\"0.00 0.00 378.00 261.00\" xmlns=\"http://www.w3.org/2000/svg\" xmlns:xlink=\"http://www.w3.org/1999/xlink\">\r\n",
       "<g id=\"graph0\" class=\"graph\" transform=\"scale(1 1) rotate(0) translate(4 257)\">\r\n",
       "<title>%3</title>\r\n",
       "<polygon fill=\"white\" stroke=\"none\" points=\"-4,4 -4,-257 374,-257 374,4 -4,4\"/>\r\n",
       "<g id=\"clust2\" class=\"cluster\"><title>cluster_1</title>\r\n",
       "<polygon fill=\"none\" stroke=\"white\" points=\"80,-35 80,-218 175,-218 175,-35 80,-35\"/>\r\n",
       "<text text-anchor=\"middle\" x=\"127.5\" y=\"-202.8\" font-family=\"Times New Roman,serif\" font-size=\"14.00\">hidden layer 1</text>\r\n",
       "</g>\r\n",
       "<g id=\"clust1\" class=\"cluster\"><title>cluster_0</title>\r\n",
       "<polygon fill=\"none\" stroke=\"white\" points=\"8,-8 8,-245 60,-245 60,-8 8,-8\"/>\r\n",
       "<text text-anchor=\"middle\" x=\"34\" y=\"-229.8\" font-family=\"Times New Roman,serif\" font-size=\"14.00\">inputs</text>\r\n",
       "</g>\r\n",
       "<g id=\"clust3\" class=\"cluster\"><title>cluster_2</title>\r\n",
       "<polygon fill=\"none\" stroke=\"white\" points=\"195,-35 195,-218 290,-218 290,-35 195,-35\"/>\r\n",
       "<text text-anchor=\"middle\" x=\"242.5\" y=\"-202.8\" font-family=\"Times New Roman,serif\" font-size=\"14.00\">hidden layer 2</text>\r\n",
       "</g>\r\n",
       "<g id=\"clust4\" class=\"cluster\"><title>cluster_3</title>\r\n",
       "<polygon fill=\"none\" stroke=\"white\" points=\"310,-89 310,-164 363,-164 363,-89 310,-89\"/>\r\n",
       "<text text-anchor=\"middle\" x=\"336.5\" y=\"-148.8\" font-family=\"Times New Roman,serif\" font-size=\"14.00\">output</text>\r\n",
       "</g>\r\n",
       "<!-- x[0] -->\r\n",
       "<g id=\"node1\" class=\"node\"><title>x[0]</title>\r\n",
       "<ellipse fill=\"none\" stroke=\"black\" cx=\"34\" cy=\"-196\" rx=\"18\" ry=\"18\"/>\r\n",
       "<text text-anchor=\"middle\" x=\"34\" y=\"-192.3\" font-family=\"Times New Roman,serif\" font-size=\"14.00\">x[0]</text>\r\n",
       "</g>\r\n",
       "<!-- h1[0] -->\r\n",
       "<g id=\"node5\" class=\"node\"><title>h1[0]</title>\r\n",
       "<ellipse fill=\"none\" stroke=\"black\" cx=\"127\" cy=\"-115\" rx=\"18\" ry=\"18\"/>\r\n",
       "<text text-anchor=\"middle\" x=\"127\" y=\"-111.3\" font-family=\"Times New Roman,serif\" font-size=\"14.00\">h1[0]</text>\r\n",
       "</g>\r\n",
       "<!-- x[0]&#45;&gt;h1[0] -->\r\n",
       "<g id=\"edge1\" class=\"edge\"><title>x[0]&#45;&gt;h1[0]</title>\r\n",
       "<path fill=\"none\" stroke=\"black\" d=\"M48.0381,-184.395C63.0396,-171.042 87.8647,-148.945 105.468,-133.276\"/>\r\n",
       "<polygon fill=\"black\" stroke=\"black\" points=\"107.844,-135.847 112.986,-126.584 103.189,-130.618 107.844,-135.847\"/>\r\n",
       "</g>\r\n",
       "<!-- h1[1] -->\r\n",
       "<g id=\"node6\" class=\"node\"><title>h1[1]</title>\r\n",
       "<ellipse fill=\"none\" stroke=\"black\" cx=\"127\" cy=\"-61\" rx=\"18\" ry=\"18\"/>\r\n",
       "<text text-anchor=\"middle\" x=\"127\" y=\"-57.3\" font-family=\"Times New Roman,serif\" font-size=\"14.00\">h1[1]</text>\r\n",
       "</g>\r\n",
       "<!-- x[0]&#45;&gt;h1[1] -->\r\n",
       "<g id=\"edge2\" class=\"edge\"><title>x[0]&#45;&gt;h1[1]</title>\r\n",
       "<path fill=\"none\" stroke=\"black\" d=\"M44.7386,-181.553C60.4603,-158.229 91.5706,-112.077 110.406,-84.1334\"/>\r\n",
       "<polygon fill=\"black\" stroke=\"black\" points=\"113.368,-86.0011 116.056,-75.7527 107.564,-82.0885 113.368,-86.0011\"/>\r\n",
       "</g>\r\n",
       "<!-- h1[2] -->\r\n",
       "<g id=\"node7\" class=\"node\"><title>h1[2]</title>\r\n",
       "<ellipse fill=\"none\" stroke=\"black\" cx=\"127\" cy=\"-169\" rx=\"18\" ry=\"18\"/>\r\n",
       "<text text-anchor=\"middle\" x=\"127\" y=\"-165.3\" font-family=\"Times New Roman,serif\" font-size=\"14.00\">h1[2]</text>\r\n",
       "</g>\r\n",
       "<!-- x[0]&#45;&gt;h1[2] -->\r\n",
       "<g id=\"edge3\" class=\"edge\"><title>x[0]&#45;&gt;h1[2]</title>\r\n",
       "<path fill=\"none\" stroke=\"black\" d=\"M51.6908,-191.048C65.0315,-187.09 83.9854,-181.466 99.4114,-176.889\"/>\r\n",
       "<polygon fill=\"black\" stroke=\"black\" points=\"100.824,-180.121 109.415,-173.921 98.8325,-173.41 100.824,-180.121\"/>\r\n",
       "</g>\r\n",
       "<!-- x[1] -->\r\n",
       "<g id=\"node2\" class=\"node\"><title>x[1]</title>\r\n",
       "<ellipse fill=\"none\" stroke=\"black\" cx=\"34\" cy=\"-142\" rx=\"18\" ry=\"18\"/>\r\n",
       "<text text-anchor=\"middle\" x=\"34\" y=\"-138.3\" font-family=\"Times New Roman,serif\" font-size=\"14.00\">x[1]</text>\r\n",
       "</g>\r\n",
       "<!-- x[1]&#45;&gt;h1[0] -->\r\n",
       "<g id=\"edge4\" class=\"edge\"><title>x[1]&#45;&gt;h1[0]</title>\r\n",
       "<path fill=\"none\" stroke=\"black\" d=\"M51.6908,-137.048C65.0315,-133.09 83.9854,-127.466 99.4114,-122.889\"/>\r\n",
       "<polygon fill=\"black\" stroke=\"black\" points=\"100.824,-126.121 109.415,-119.921 98.8325,-119.41 100.824,-126.121\"/>\r\n",
       "</g>\r\n",
       "<!-- x[1]&#45;&gt;h1[1] -->\r\n",
       "<g id=\"edge5\" class=\"edge\"><title>x[1]&#45;&gt;h1[1]</title>\r\n",
       "<path fill=\"none\" stroke=\"black\" d=\"M48.0381,-130.395C63.0396,-117.042 87.8647,-94.9446 105.468,-79.276\"/>\r\n",
       "<polygon fill=\"black\" stroke=\"black\" points=\"107.844,-81.8469 112.986,-72.5838 103.189,-76.6182 107.844,-81.8469\"/>\r\n",
       "</g>\r\n",
       "<!-- x[1]&#45;&gt;h1[2] -->\r\n",
       "<g id=\"edge6\" class=\"edge\"><title>x[1]&#45;&gt;h1[2]</title>\r\n",
       "<path fill=\"none\" stroke=\"black\" d=\"M51.6908,-146.952C65.0315,-150.91 83.9854,-156.534 99.4114,-161.111\"/>\r\n",
       "<polygon fill=\"black\" stroke=\"black\" points=\"98.8325,-164.59 109.415,-164.079 100.824,-157.879 98.8325,-164.59\"/>\r\n",
       "</g>\r\n",
       "<!-- x[2] -->\r\n",
       "<g id=\"node3\" class=\"node\"><title>x[2]</title>\r\n",
       "<ellipse fill=\"none\" stroke=\"black\" cx=\"34\" cy=\"-88\" rx=\"18\" ry=\"18\"/>\r\n",
       "<text text-anchor=\"middle\" x=\"34\" y=\"-84.3\" font-family=\"Times New Roman,serif\" font-size=\"14.00\">x[2]</text>\r\n",
       "</g>\r\n",
       "<!-- x[2]&#45;&gt;h1[0] -->\r\n",
       "<g id=\"edge7\" class=\"edge\"><title>x[2]&#45;&gt;h1[0]</title>\r\n",
       "<path fill=\"none\" stroke=\"black\" d=\"M51.6908,-92.9522C65.0315,-96.9104 83.9854,-102.534 99.4114,-107.111\"/>\r\n",
       "<polygon fill=\"black\" stroke=\"black\" points=\"98.8325,-110.59 109.415,-110.079 100.824,-103.879 98.8325,-110.59\"/>\r\n",
       "</g>\r\n",
       "<!-- x[2]&#45;&gt;h1[1] -->\r\n",
       "<g id=\"edge8\" class=\"edge\"><title>x[2]&#45;&gt;h1[1]</title>\r\n",
       "<path fill=\"none\" stroke=\"black\" d=\"M51.6908,-83.0478C65.0315,-79.0896 83.9854,-73.4659 99.4114,-68.8889\"/>\r\n",
       "<polygon fill=\"black\" stroke=\"black\" points=\"100.824,-72.1208 109.415,-65.9208 98.8325,-65.4099 100.824,-72.1208\"/>\r\n",
       "</g>\r\n",
       "<!-- x[2]&#45;&gt;h1[2] -->\r\n",
       "<g id=\"edge9\" class=\"edge\"><title>x[2]&#45;&gt;h1[2]</title>\r\n",
       "<path fill=\"none\" stroke=\"black\" d=\"M48.0381,-99.6053C63.0396,-112.958 87.8647,-135.055 105.468,-150.724\"/>\r\n",
       "<polygon fill=\"black\" stroke=\"black\" points=\"103.189,-153.382 112.986,-157.416 107.844,-148.153 103.189,-153.382\"/>\r\n",
       "</g>\r\n",
       "<!-- x[3] -->\r\n",
       "<g id=\"node4\" class=\"node\"><title>x[3]</title>\r\n",
       "<ellipse fill=\"none\" stroke=\"black\" cx=\"34\" cy=\"-34\" rx=\"18\" ry=\"18\"/>\r\n",
       "<text text-anchor=\"middle\" x=\"34\" y=\"-30.3\" font-family=\"Times New Roman,serif\" font-size=\"14.00\">x[3]</text>\r\n",
       "</g>\r\n",
       "<!-- x[3]&#45;&gt;h1[0] -->\r\n",
       "<g id=\"edge10\" class=\"edge\"><title>x[3]&#45;&gt;h1[0]</title>\r\n",
       "<path fill=\"none\" stroke=\"black\" d=\"M48.0381,-45.6053C63.0396,-58.9584 87.8647,-81.0554 105.468,-96.724\"/>\r\n",
       "<polygon fill=\"black\" stroke=\"black\" points=\"103.189,-99.3818 112.986,-103.416 107.844,-94.1531 103.189,-99.3818\"/>\r\n",
       "</g>\r\n",
       "<!-- x[3]&#45;&gt;h1[1] -->\r\n",
       "<g id=\"edge11\" class=\"edge\"><title>x[3]&#45;&gt;h1[1]</title>\r\n",
       "<path fill=\"none\" stroke=\"black\" d=\"M51.6908,-38.9522C65.0315,-42.9104 83.9854,-48.5341 99.4114,-53.1111\"/>\r\n",
       "<polygon fill=\"black\" stroke=\"black\" points=\"98.8325,-56.5901 109.415,-56.0792 100.824,-49.8792 98.8325,-56.5901\"/>\r\n",
       "</g>\r\n",
       "<!-- x[3]&#45;&gt;h1[2] -->\r\n",
       "<g id=\"edge12\" class=\"edge\"><title>x[3]&#45;&gt;h1[2]</title>\r\n",
       "<path fill=\"none\" stroke=\"black\" d=\"M44.7386,-48.4474C60.4603,-71.7708 91.5706,-117.923 110.406,-145.867\"/>\r\n",
       "<polygon fill=\"black\" stroke=\"black\" points=\"107.564,-147.912 116.056,-154.247 113.368,-143.999 107.564,-147.912\"/>\r\n",
       "</g>\r\n",
       "<!-- h2[0] -->\r\n",
       "<g id=\"node8\" class=\"node\"><title>h2[0]</title>\r\n",
       "<ellipse fill=\"none\" stroke=\"black\" cx=\"242\" cy=\"-61\" rx=\"18\" ry=\"18\"/>\r\n",
       "<text text-anchor=\"middle\" x=\"242\" y=\"-57.3\" font-family=\"Times New Roman,serif\" font-size=\"14.00\">h2[0]</text>\r\n",
       "</g>\r\n",
       "<!-- h1[0]&#45;&gt;h2[0] -->\r\n",
       "<g id=\"edge13\" class=\"edge\"><title>h1[0]&#45;&gt;h2[0]</title>\r\n",
       "<path fill=\"none\" stroke=\"black\" d=\"M143.712,-107.492C162.518,-98.5046 194.233,-83.3486 216.321,-72.7935\"/>\r\n",
       "<polygon fill=\"black\" stroke=\"black\" points=\"217.908,-75.9144 225.421,-68.4447 214.889,-69.5985 217.908,-75.9144\"/>\r\n",
       "</g>\r\n",
       "<!-- h2[1] -->\r\n",
       "<g id=\"node9\" class=\"node\"><title>h2[1]</title>\r\n",
       "<ellipse fill=\"none\" stroke=\"black\" cx=\"242\" cy=\"-169\" rx=\"18\" ry=\"18\"/>\r\n",
       "<text text-anchor=\"middle\" x=\"242\" y=\"-165.3\" font-family=\"Times New Roman,serif\" font-size=\"14.00\">h2[1]</text>\r\n",
       "</g>\r\n",
       "<!-- h1[0]&#45;&gt;h2[1] -->\r\n",
       "<g id=\"edge14\" class=\"edge\"><title>h1[0]&#45;&gt;h2[1]</title>\r\n",
       "<path fill=\"none\" stroke=\"black\" d=\"M143.712,-122.508C162.518,-131.495 194.233,-146.651 216.321,-157.207\"/>\r\n",
       "<polygon fill=\"black\" stroke=\"black\" points=\"214.889,-160.401 225.421,-161.555 217.908,-154.086 214.889,-160.401\"/>\r\n",
       "</g>\r\n",
       "<!-- h2[2] -->\r\n",
       "<g id=\"node10\" class=\"node\"><title>h2[2]</title>\r\n",
       "<ellipse fill=\"none\" stroke=\"black\" cx=\"242\" cy=\"-115\" rx=\"18\" ry=\"18\"/>\r\n",
       "<text text-anchor=\"middle\" x=\"242\" y=\"-111.3\" font-family=\"Times New Roman,serif\" font-size=\"14.00\">h2[2]</text>\r\n",
       "</g>\r\n",
       "<!-- h1[0]&#45;&gt;h2[2] -->\r\n",
       "<g id=\"edge15\" class=\"edge\"><title>h1[0]&#45;&gt;h2[2]</title>\r\n",
       "<path fill=\"none\" stroke=\"black\" d=\"M145.162,-115C163.331,-115 192.275,-115 213.606,-115\"/>\r\n",
       "<polygon fill=\"black\" stroke=\"black\" points=\"213.676,-118.5 223.676,-115 213.676,-111.5 213.676,-118.5\"/>\r\n",
       "</g>\r\n",
       "<!-- h1[1]&#45;&gt;h2[0] -->\r\n",
       "<g id=\"edge16\" class=\"edge\"><title>h1[1]&#45;&gt;h2[0]</title>\r\n",
       "<path fill=\"none\" stroke=\"black\" d=\"M145.162,-61C163.331,-61 192.275,-61 213.606,-61\"/>\r\n",
       "<polygon fill=\"black\" stroke=\"black\" points=\"213.676,-64.5001 223.676,-61 213.676,-57.5001 213.676,-64.5001\"/>\r\n",
       "</g>\r\n",
       "<!-- h1[1]&#45;&gt;h2[1] -->\r\n",
       "<g id=\"edge17\" class=\"edge\"><title>h1[1]&#45;&gt;h2[1]</title>\r\n",
       "<path fill=\"none\" stroke=\"black\" d=\"M140.525,-72.9705C160.04,-91.6219 197.872,-127.78 221.136,-150.015\"/>\r\n",
       "<polygon fill=\"black\" stroke=\"black\" points=\"218.772,-152.597 228.419,-156.976 223.608,-147.536 218.772,-152.597\"/>\r\n",
       "</g>\r\n",
       "<!-- h1[1]&#45;&gt;h2[2] -->\r\n",
       "<g id=\"edge18\" class=\"edge\"><title>h1[1]&#45;&gt;h2[2]</title>\r\n",
       "<path fill=\"none\" stroke=\"black\" d=\"M143.712,-68.5085C162.518,-77.4954 194.233,-92.6514 216.321,-103.207\"/>\r\n",
       "<polygon fill=\"black\" stroke=\"black\" points=\"214.889,-106.401 225.421,-107.555 217.908,-100.086 214.889,-106.401\"/>\r\n",
       "</g>\r\n",
       "<!-- h1[2]&#45;&gt;h2[0] -->\r\n",
       "<g id=\"edge19\" class=\"edge\"><title>h1[2]&#45;&gt;h2[0]</title>\r\n",
       "<path fill=\"none\" stroke=\"black\" d=\"M140.525,-157.029C160.04,-138.378 197.872,-102.22 221.136,-79.9854\"/>\r\n",
       "<polygon fill=\"black\" stroke=\"black\" points=\"223.608,-82.4637 228.419,-73.0242 218.772,-77.4033 223.608,-82.4637\"/>\r\n",
       "</g>\r\n",
       "<!-- h1[2]&#45;&gt;h2[1] -->\r\n",
       "<g id=\"edge20\" class=\"edge\"><title>h1[2]&#45;&gt;h2[1]</title>\r\n",
       "<path fill=\"none\" stroke=\"black\" d=\"M145.162,-169C163.331,-169 192.275,-169 213.606,-169\"/>\r\n",
       "<polygon fill=\"black\" stroke=\"black\" points=\"213.676,-172.5 223.676,-169 213.676,-165.5 213.676,-172.5\"/>\r\n",
       "</g>\r\n",
       "<!-- h1[2]&#45;&gt;h2[2] -->\r\n",
       "<g id=\"edge21\" class=\"edge\"><title>h1[2]&#45;&gt;h2[2]</title>\r\n",
       "<path fill=\"none\" stroke=\"black\" d=\"M143.712,-161.492C162.518,-152.505 194.233,-137.349 216.321,-126.793\"/>\r\n",
       "<polygon fill=\"black\" stroke=\"black\" points=\"217.908,-129.914 225.421,-122.445 214.889,-123.599 217.908,-129.914\"/>\r\n",
       "</g>\r\n",
       "<!-- y -->\r\n",
       "<g id=\"node11\" class=\"node\"><title>y</title>\r\n",
       "<ellipse fill=\"none\" stroke=\"black\" cx=\"336\" cy=\"-115\" rx=\"18\" ry=\"18\"/>\r\n",
       "<text text-anchor=\"middle\" x=\"336\" y=\"-111.3\" font-family=\"Times New Roman,serif\" font-size=\"14.00\">y</text>\r\n",
       "</g>\r\n",
       "<!-- h2[0]&#45;&gt;y -->\r\n",
       "<g id=\"edge22\" class=\"edge\"><title>h2[0]&#45;&gt;y</title>\r\n",
       "<path fill=\"none\" stroke=\"black\" d=\"M257.781,-69.676C272.181,-78.1282 294.309,-91.1164 311.192,-101.026\"/>\r\n",
       "<polygon fill=\"black\" stroke=\"black\" points=\"309.554,-104.123 319.95,-106.166 313.097,-98.0856 309.554,-104.123\"/>\r\n",
       "</g>\r\n",
       "<!-- h2[1]&#45;&gt;y -->\r\n",
       "<g id=\"edge23\" class=\"edge\"><title>h2[1]&#45;&gt;y</title>\r\n",
       "<path fill=\"none\" stroke=\"black\" d=\"M257.781,-160.324C272.181,-151.872 294.309,-138.884 311.192,-128.974\"/>\r\n",
       "<polygon fill=\"black\" stroke=\"black\" points=\"313.097,-131.914 319.95,-123.834 309.554,-125.877 313.097,-131.914\"/>\r\n",
       "</g>\r\n",
       "<!-- h2[2]&#45;&gt;y -->\r\n",
       "<g id=\"edge24\" class=\"edge\"><title>h2[2]&#45;&gt;y</title>\r\n",
       "<path fill=\"none\" stroke=\"black\" d=\"M260.304,-115C273.54,-115 292.053,-115 307.337,-115\"/>\r\n",
       "<polygon fill=\"black\" stroke=\"black\" points=\"307.773,-118.5 317.773,-115 307.773,-111.5 307.773,-118.5\"/>\r\n",
       "</g>\r\n",
       "</g>\r\n",
       "</svg>\r\n"
      ],
      "text/plain": [
       "<graphviz.dot.Digraph at 0x22ac97ec608>"
      ]
     },
     "execution_count": 19,
     "metadata": {},
     "output_type": "execute_result"
    }
   ],
   "source": [
    "mglearn.plots.plot_two_hidden_layer_graph() "
   ]
  },
  {
   "cell_type": "markdown",
   "metadata": {},
   "source": [
    "## 인공신경망을 구현하는 방법\n",
    "   + 사이킷런 : Perceotron(),MLPClassifier()\n",
    "   + Theano, Tensorflow, Keras, Pytorch"
   ]
  },
  {
   "cell_type": "markdown",
   "metadata": {},
   "source": [
    "### Perceptron"
   ]
  },
  {
   "cell_type": "code",
   "execution_count": 23,
   "metadata": {},
   "outputs": [],
   "source": [
    "# Perceptron : 선형분류만 가능하다.\n",
    "from sklearn.datasets import load_iris\n",
    "from sklearn.linear_model import Perceptron\n",
    "\n",
    "iris=load_iris()\n",
    "X=iris.data[:,(2,3)]\n",
    "y=(iris.target==0).astype(np.int)"
   ]
  },
  {
   "cell_type": "code",
   "execution_count": 25,
   "metadata": {},
   "outputs": [
    {
     "data": {
      "text/plain": [
       "array([1, 1, 1, 1, 1, 1, 1, 1, 1, 1, 1, 1, 1, 1, 1, 1, 1, 1, 1, 1, 1, 1,\n",
       "       1, 1, 1, 1, 1, 1, 1, 1, 1, 1, 1, 1, 1, 1, 1, 1, 1, 1, 1, 1, 1, 1,\n",
       "       1, 1, 1, 1, 1, 1, 0, 0, 0, 0, 0, 0, 0, 0, 0, 0, 0, 0, 0, 0, 0, 0,\n",
       "       0, 0, 0, 0, 0, 0, 0, 0, 0, 0, 0, 0, 0, 0, 0, 0, 0, 0, 0, 0, 0, 0,\n",
       "       0, 0, 0, 0, 0, 0, 0, 0, 0, 0, 0, 0, 0, 0, 0, 0, 0, 0, 0, 0, 0, 0,\n",
       "       0, 0, 0, 0, 0, 0, 0, 0, 0, 0, 0, 0, 0, 0, 0, 0, 0, 0, 0, 0, 0, 0,\n",
       "       0, 0, 0, 0, 0, 0, 0, 0, 0, 0, 0, 0, 0, 0, 0, 0, 0, 0])"
      ]
     },
     "execution_count": 25,
     "metadata": {},
     "output_type": "execute_result"
    }
   ],
   "source": [
    "X.shape\n",
    "y"
   ]
  },
  {
   "cell_type": "code",
   "execution_count": 26,
   "metadata": {},
   "outputs": [
    {
     "data": {
      "text/plain": [
       "Perceptron(alpha=0.0001, class_weight=None, early_stopping=False, eta0=1.0,\n",
       "           fit_intercept=True, max_iter=100, n_iter_no_change=5, n_jobs=None,\n",
       "           penalty=None, random_state=42, shuffle=True, tol=0.001,\n",
       "           validation_fraction=0.1, verbose=0, warm_start=False)"
      ]
     },
     "execution_count": 26,
     "metadata": {},
     "output_type": "execute_result"
    }
   ],
   "source": [
    "per_clf=Perceptron(max_iter=100,random_state=42)\n",
    "\n",
    "per_clf.fit(X,y)"
   ]
  },
  {
   "cell_type": "code",
   "execution_count": 29,
   "metadata": {},
   "outputs": [
    {
     "name": "stdout",
     "output_type": "stream",
     "text": [
      "[1]\n"
     ]
    }
   ],
   "source": [
    "y_pred=per_clf.predict([[2,0.5]])\n",
    "#y_pred=per_clf.predict([[4,5]])\n",
    "print(y_pred)"
   ]
  },
  {
   "cell_type": "markdown",
   "metadata": {},
   "source": [
    "### MLPClassifier(다중 퍼셉트론)"
   ]
  },
  {
   "cell_type": "code",
   "execution_count": 31,
   "metadata": {},
   "outputs": [],
   "source": [
    "X=iris['data']\n",
    "y=iris['target']"
   ]
  },
  {
   "cell_type": "code",
   "execution_count": 32,
   "metadata": {},
   "outputs": [],
   "source": [
    "X_train,X_test,y_train,y_test=train_test_split(X,y)"
   ]
  },
  {
   "cell_type": "code",
   "execution_count": 33,
   "metadata": {},
   "outputs": [],
   "source": [
    "from sklearn.preprocessing import StandardScaler\n",
    "scaler= StandardScaler()\n",
    "scaler.fit(X_train)\n",
    "X_train=scaler.transform(X_train)\n",
    "X_test=scaler.transform(X_test)"
   ]
  },
  {
   "cell_type": "code",
   "execution_count": 35,
   "metadata": {},
   "outputs": [],
   "source": [
    "# 알고리즘 불러오기\n",
    "from sklearn.neural_network import MLPClassifier\n",
    "mlp= MLPClassifier(hidden_layer_sizes=(10,10,10))"
   ]
  },
  {
   "cell_type": "code",
   "execution_count": 37,
   "metadata": {},
   "outputs": [
    {
     "name": "stderr",
     "output_type": "stream",
     "text": [
      "C:\\Users\\acorn\\Anaconda3\\lib\\site-packages\\sklearn\\neural_network\\_multilayer_perceptron.py:571: ConvergenceWarning: Stochastic Optimizer: Maximum iterations (200) reached and the optimization hasn't converged yet.\n",
      "  % self.max_iter, ConvergenceWarning)\n"
     ]
    },
    {
     "data": {
      "text/plain": [
       "MLPClassifier(activation='relu', alpha=0.0001, batch_size='auto', beta_1=0.9,\n",
       "              beta_2=0.999, early_stopping=False, epsilon=1e-08,\n",
       "              hidden_layer_sizes=(10, 10, 10), learning_rate='constant',\n",
       "              learning_rate_init=0.001, max_fun=15000, max_iter=200,\n",
       "              momentum=0.9, n_iter_no_change=10, nesterovs_momentum=True,\n",
       "              power_t=0.5, random_state=None, shuffle=True, solver='adam',\n",
       "              tol=0.0001, validation_fraction=0.1, verbose=False,\n",
       "              warm_start=False)"
      ]
     },
     "execution_count": 37,
     "metadata": {},
     "output_type": "execute_result"
    }
   ],
   "source": [
    "#훈련\n",
    "mlp.fit(X_train,y_train)"
   ]
  },
  {
   "cell_type": "code",
   "execution_count": 38,
   "metadata": {},
   "outputs": [],
   "source": [
    "pred=mlp.predict(X_test)"
   ]
  },
  {
   "cell_type": "code",
   "execution_count": 43,
   "metadata": {},
   "outputs": [
    {
     "name": "stdout",
     "output_type": "stream",
     "text": [
      "[[15  0  0]\n",
      " [ 0  8  3]\n",
      " [ 0  1 11]]\n",
      "              precision    recall  f1-score   support\n",
      "\n",
      "           0       1.00      1.00      1.00        15\n",
      "           1       0.89      0.73      0.80        11\n",
      "           2       0.79      0.92      0.85        12\n",
      "\n",
      "    accuracy                           0.89        38\n",
      "   macro avg       0.89      0.88      0.88        38\n",
      "weighted avg       0.90      0.89      0.89        38\n",
      "\n"
     ]
    }
   ],
   "source": [
    "from sklearn.metrics import classification_report,confusion_matrix\n",
    "\n",
    "print(confusion_matrix(y_test,pred))\n",
    "print(classification_report(y_test,pred))"
   ]
  },
  {
   "cell_type": "code",
   "execution_count": null,
   "metadata": {},
   "outputs": [],
   "source": []
  }
 ],
 "metadata": {
  "kernelspec": {
   "display_name": "Python 3",
   "language": "python",
   "name": "python3"
  },
  "language_info": {
   "codemirror_mode": {
    "name": "ipython",
    "version": 3
   },
   "file_extension": ".py",
   "mimetype": "text/x-python",
   "name": "python",
   "nbconvert_exporter": "python",
   "pygments_lexer": "ipython3",
   "version": "3.7.6"
  }
 },
 "nbformat": 4,
 "nbformat_minor": 4
}
